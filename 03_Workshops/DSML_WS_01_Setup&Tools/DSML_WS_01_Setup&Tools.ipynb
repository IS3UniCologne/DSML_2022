{
 "cells": [
  {
   "cell_type": "markdown",
   "metadata": {},
   "source": [
    "# `DSML_WS_01` - Setup & Tools"
   ]
  },
  {
   "cell_type": "markdown",
   "metadata": {},
   "source": [
    "In this tutorial we will introduce the main tools we will be working with throughout the rest of the course. Everything shown here will become the basis on top of which we will build more sophisticated (and hopefully fun) data science and machine learning tasks.\n",
    "\n",
    "We will go through the following:\n",
    "\n",
    "- `Git` and `GitHub` as central course repository\n",
    "- `Anaconda` installation\n",
    "- `Jupyter Notebook` introduction\n",
    "- `Python` introduction"
   ]
  },
  {
   "cell_type": "markdown",
   "metadata": {},
   "source": [
    "---"
   ]
  },
  {
   "cell_type": "markdown",
   "metadata": {},
   "source": [
    "## `Git` and `GitHub`"
   ]
  },
  {
   "cell_type": "markdown",
   "metadata": {},
   "source": [
    "[Git](https://git-scm.com) is an open-source distributed version-control system that has gained increasing popularity in recent years. It allows large teams of software engineers or data scientists to collaboratively work on projects, while keeping track of changes.\n",
    "\n",
    "In this course we will use a git repository hosted by [GitHub](https://github.com/about) to **share code**, **small data snippets**, links to **lecture material** and **course infromation** with you.\n",
    "\n",
    "For the purpose of this course you will not require a deep understanding of Git. All you need is access to our Chair's public GitHub repository from where you can download code and data. This repo can be accessed here:\n",
    "- Navigate to [`https://github.com/IS3UniCologne/DSML_2022`](https://github.com/IS3UniCologne/DSML_2022)"
   ]
  },
  {
   "cell_type": "markdown",
   "metadata": {},
   "source": [
    "You should see a screen similar to this one (shown here in dark mode):"
   ]
  },
  {
   "cell_type": "markdown",
   "metadata": {},
   "source": [
    "![GitLab home](DSML_WS_01_GitHub_Screen.png)"
   ]
  },
  {
   "cell_type": "markdown",
   "metadata": {},
   "source": [
    "You can view and follow this course via this `GitHub` repository. You can also download all material onto your local machines for when you need to work with code.\n",
    "\n",
    "**Note**: If you have some experience with using `git` you may also whish to clone the repository on you local machine for ease of use. **We will give you a quick introduction into git in a future session once you have familiarized yourself a little with the tools presented today!**"
   ]
  },
  {
   "cell_type": "markdown",
   "metadata": {},
   "source": [
    "### <font color='green'>Please download the course folder from `GitHub` now</font>"
   ]
  },
  {
   "cell_type": "markdown",
   "metadata": {},
   "source": [
    "---"
   ]
  },
  {
   "cell_type": "markdown",
   "metadata": {},
   "source": [
    "## `Anaconda`"
   ]
  },
  {
   "cell_type": "markdown",
   "metadata": {},
   "source": [
    "We highly recommend that you install the [Anaconda Python Distribution](http://docs.continuum.io/anaconda/install/). It will make your life much easier. You can download and install Anaconda on Windows, OSX and Linux.\n",
    "\n",
    "There are two options:\n",
    "\n",
    "- **Option 1** (probably the easiest): Install the full **Anaconda distribution**, which comes with a lot of pre-installed packages (incl. Jupyter Notebook) and a package manager graphical user interface (GUI). It is available for download [here](https://www.anaconda.com/distribution/).\n",
    "- **Option 2** (for slightly more advanced users and if your are short on disk space): Install the much lighter **MiniConda distribution** which essentially is just the Conda package manager and Python. From there your can simply install Python packages as required via the Terminal (Mac, Linux) or the Anaconda Command Prompt (Windows). It is available for download [here](https://docs.conda.io/en/latest/miniconda.html)."
   ]
  },
  {
   "cell_type": "markdown",
   "metadata": {},
   "source": [
    "### <font color='green'>Please download and install `Anaconda` or `MiniConda` now and follow the below steps </font>"
   ]
  },
  {
   "cell_type": "markdown",
   "metadata": {},
   "source": [
    "After installing, open up a terminal:\n",
    "\n",
    "* If you are on a **Windows** computer, use the \"Anaconda Prompt\" from the Start menu. \n",
    "* On a **Mac**, start up the \"Terminal\". \n",
    "* In **Linux**, use any of the terminals available."
   ]
  },
  {
   "cell_type": "markdown",
   "metadata": {},
   "source": [
    "If you have installed the full Anaconda Distribution, to ensure all you packages are up to date, run the following two commands consecutively\n",
    "\n",
    "```\n",
    "conda update conda\n",
    "conda update jupyter numpy sympy scipy matplotlib pandas\n",
    "\n",
    "```"
   ]
  },
  {
   "cell_type": "markdown",
   "metadata": {},
   "source": [
    "If you have installed the Miniconda Distribution, which comes without any pre-installed packages, run the following three commands consecutively\n",
    "\n",
    "```\n",
    "conda update conda\n",
    "conda install jupyter\n",
    "conda install jupyter lab\n",
    "conda install numpy scipy sympy matplotlib pandas\n",
    "\n",
    "```"
   ]
  },
  {
   "cell_type": "markdown",
   "metadata": {},
   "source": [
    "You can easily check which packes and libraries are installed by executing the following command in your respective terminal:\n",
    "\n",
    "```\n",
    "conda list\n",
    "\n",
    "```"
   ]
  },
  {
   "cell_type": "markdown",
   "metadata": {},
   "source": [
    "---"
   ]
  },
  {
   "cell_type": "markdown",
   "metadata": {},
   "source": [
    "## `Jupyter Notebook`"
   ]
  },
  {
   "cell_type": "markdown",
   "metadata": {},
   "source": [
    "The main computational tool we will be using during this course is the [Jupyter notebook](http://jupyter.org/). Notebooks are a convenient way to thread text, code and the output it produces in a simple file that you can then share, edit and modify. You can think of notebooks as the __Word document of Data Scientists__.\n",
    "\n",
    "Jupyter is a browser-based coding environment, used extensively for prototyping and interactive development in data science applications.  Jupyter Notebook is an evolution of an older project called the IPython Noteboook (this is the origin of the notebook file extension \".ipynb\").\n",
    "\n",
    "The central unit within a Jupyter Notebook are \"cells\".  These cells can be either contain code or Markdown (a simple formatting language, which can also include things like LaTeX equations).  The dropdown menu at the top of the screen indicates the type of the current cell.  \n",
    "\n",
    "In the following we explain the basic concepts of how to use Jupyter"
   ]
  },
  {
   "cell_type": "markdown",
   "metadata": {},
   "source": [
    "### <font color='green'> Follow the below instructions to start up the notebook we are currently working in </font>"
   ]
  },
  {
   "cell_type": "markdown",
   "metadata": {},
   "source": [
    "### Start a notebook"
   ]
  },
  {
   "cell_type": "markdown",
   "metadata": {},
   "source": [
    "In order to begin a notebook session, you need to do it from what is called the *command line*, a terminal window that allows you to interact with your computer through written commands. This is how you can start up a terminal:\n",
    "\n",
    "* If you are on a **Windows** computer, you can start the \"Anaconda Prompt\" from the Start menu. \n",
    "* On a **Mac**, fire up the Terminal utility. \n",
    "* In **Linux**, use any of the terminals available.\n",
    "\n",
    "Then type the following command\n",
    "\n",
    "```\n",
    "> conda activate base\n",
    "```\n",
    "\n",
    "**NOTE**: ignore `source` if you are on Windows and simply type `activate base`.\n",
    "\n",
    "Then launch `Jupyter` by typing on the same terminal:\n",
    "\n",
    "```\n",
    "> jupyter notebook\n",
    "```\n",
    "\n",
    "This should bring up a browser window with a home page that looks more or less like this (although probably with a different list of files):"
   ]
  },
  {
   "cell_type": "markdown",
   "metadata": {},
   "source": [
    "![Jupyter home](DSML_WS_01_JupyterNotebook_Start_Screen.png)"
   ]
  },
  {
   "cell_type": "markdown",
   "metadata": {},
   "source": [
    "Alternatively you can also use `jupyter lab`, a more advanced and (I think) better interface for working with jupyter notebooks. To do so, type the following command in the Terminal/Anaconda Prompt:\n",
    "\n",
    "```\n",
    "> jupyter lab\n",
    "```\n",
    "\n",
    "(you may have to install by running `conda install jupyter lab`)\n"
   ]
  },
  {
   "cell_type": "markdown",
   "metadata": {},
   "source": [
    "Navigate to the folder where you have placed the `DSML_WS_01_Setup&Tools.ipynb` file for this tutorial and click on it. This will open the notebook on a different tab. You are now on the interactive version of the notebook!"
   ]
  },
  {
   "cell_type": "markdown",
   "metadata": {},
   "source": [
    "![Jupyter home](DSML_WS_01_JupyterNotebook_Target_Folder.png)"
   ]
  },
  {
   "cell_type": "markdown",
   "metadata": {},
   "source": [
    "When you are finished with the session, you can save the notebook with `File -> Save and Checkpoint` or by clicking the save button. Everything you do on the notebook (text, code and output) is saved into an `.ipynb` file that you can open later, share, commit to a remote git repo, etc."
   ]
  },
  {
   "cell_type": "markdown",
   "metadata": {},
   "source": [
    "### Cells"
   ]
  },
  {
   "cell_type": "markdown",
   "metadata": {},
   "source": [
    "The main building block of notebooks are cells. These are chunks of content which can be cut, pasted, and moved around in a notebook. \n",
    "\n",
    "Code cells can be executed by pressing the <i class=\"fa fa-step-forward\"></i> button at the top of the notebook, or \n",
    "by simultaneously pressing `shift + enter` (execute and move to the next cell) or `ctrl + enter` (execute and stay on that cell).  All Python code is executed in a single running Python environment, called the \"Kernel\" in Jupyter Notebook.  Variables are shared across all cells, and the code is executed in the order in which the cells are run (not necessarily sequential in the notebook), which can get your notebook into rather confusing states if you don't always execute cells in order.\n",
    "\n",
    "Cells can be of two types:\n",
    "\n",
    "* **Text**, (or markdown) like the one where this is written.\n",
    "* **Code**, like the following one below:\n",
    "\n",
    "**Tip**: you can easily switch between text (markdown) and code model via shortcuts. If you press `<escape>` and then `y` you switch to **Code**. If you press `<escape>` and then `m` you switch to **Text** (i.e. markdown)."
   ]
  },
  {
   "cell_type": "code",
   "execution_count": 1,
   "metadata": {},
   "outputs": [],
   "source": [
    "# Below is a code cell"
   ]
  },
  {
   "cell_type": "code",
   "execution_count": 2,
   "metadata": {},
   "outputs": [
    {
     "name": "stdout",
     "output_type": "stream",
     "text": [
      "12\n"
     ]
    }
   ],
   "source": [
    "# Let's type some code by assigning a variable and printing it\n",
    "\n",
    "var = 5+7\n",
    "print(var)"
   ]
  },
  {
   "cell_type": "code",
   "execution_count": 3,
   "metadata": {},
   "outputs": [],
   "source": [
    "# Below is a text cell"
   ]
  },
  {
   "cell_type": "markdown",
   "metadata": {},
   "source": [
    "__this is some text__"
   ]
  },
  {
   "cell_type": "markdown",
   "metadata": {},
   "source": [
    "### Shortcuts"
   ]
  },
  {
   "cell_type": "markdown",
   "metadata": {},
   "source": [
    "You can create a new cell by clicking `Insert` -> `Cell Above`/`Below` in the top menu. By default, this will be a code cell, but you can change that on the `Cell` -> `Cell Type` menu. Choose `Markdown` for a text cell. Once a new cell is created, you can edit it by clicking on it, which will create the cursor bar inside for you to start typing.\n",
    "\n",
    "**Tip**: Alternatively, cells can also be created with shortcuts. If you press `<escape>` and then `b` (`a`), a new cell will be created below (above). "
   ]
  },
  {
   "cell_type": "markdown",
   "metadata": {},
   "source": [
    "As eluded to above, shortcuts can make your life a lot easier. There is a whole bunch of shortcuts you can explore by pressing `<escape>` and `h` (press `<escape>` again to leave the help)."
   ]
  },
  {
   "cell_type": "markdown",
   "metadata": {},
   "source": [
    "### Code and its output\n",
    "\n",
    "A particularly useful feature of notebooks is that you can save, in the same place, the code you use to generate any output (tables, figures, etc.). As an example, the cell below contains a snipet of Python that returns a printed statement. This statement is then printed below and recorded in the notebook as output:"
   ]
  },
  {
   "cell_type": "code",
   "execution_count": 4,
   "metadata": {},
   "outputs": [],
   "source": [
    "# Print \"hello world\""
   ]
  },
  {
   "cell_type": "code",
   "execution_count": 5,
   "metadata": {},
   "outputs": [
    {
     "name": "stdout",
     "output_type": "stream",
     "text": [
      "Hello, world!!!\n"
     ]
    }
   ],
   "source": [
    "print(\"Hello, world!!!\")"
   ]
  },
  {
   "cell_type": "markdown",
   "metadata": {},
   "source": [
    "Note also how the notebook has automatic syntax highlighting support for Python. This makes the code much more readable and understandable. More on Python as a coding language below."
   ]
  },
  {
   "cell_type": "markdown",
   "metadata": {},
   "source": [
    "### Markdown"
   ]
  },
  {
   "cell_type": "markdown",
   "metadata": {},
   "source": [
    "Text cells in a notebook use the [Github Flavored Markdown](https://help.github.com/articles/github-flavored-markdown/) markup language. This means you can write plain text with some rules and the notebook renders a more visually appealing version of it. Let's see some examples:\n",
    "\n",
    "* **BOLD**:\n",
    "\n",
    "`This is **bold**.`\n",
    "\n",
    "Is rendered:\n",
    "\n",
    "This is **bold**.\n",
    "\n",
    "* **ITALIC**:\n",
    "\n",
    "`This is *italic*.`\n",
    "\n",
    "Is rendered:\n",
    "\n",
    "This is *italic*.\n",
    "\n",
    "* **LISTS**:\n",
    "\n",
    "You can create unnumbered lists:\n",
    "\n",
    "```\n",
    "* Item 1\n",
    "* Item 2\n",
    "* ...\n",
    "```\n",
    "\n",
    "Which will produce:\n",
    "\n",
    "* Item 1\n",
    "* Item 2\n",
    "* ...\n",
    "\n",
    "Or you can create numbered lists:\n",
    "\n",
    "```\n",
    "1. First element\n",
    "1. Second element\n",
    "1. ...\n",
    "```\n",
    "\n",
    "And get:\n",
    "\n",
    "1. First element\n",
    "1. Second element\n",
    "1. ...\n",
    "\n",
    "Note that you don't have to write the actual number of the element, just using `1.` always produces a numbered list.\n",
    "\n",
    "You can also nest lists:\n",
    "\n",
    "```\n",
    "* First unnumbered element, which can be split into:\n",
    "\n",
    "    1. One numbered element\n",
    "    2. Another numbered element\n",
    "\n",
    "* Second element.\n",
    "* ...\n",
    "```\n",
    "\n",
    "* First unnumbered element, which can be split into:\n",
    "\n",
    "    1. One numbered element\n",
    "    2. Another numbered element\n",
    "\n",
    "* Second element.\n",
    "* ...\n",
    "\n",
    "This creates many oportunities to combine things nicely.\n",
    "\n",
    "* **LINKS**\n",
    "\n",
    "`You can easily create hyperlinks, for example to [WikiPedia](https://www.wikipedia.org/).`\n",
    "\n",
    "You can easily create hyperlinks, for example to [WikiPedia](https://www.wikipedia.org/).\n",
    "\n",
    "* **HEADINGS**: including `#` before a line causes it to render a heading.\n",
    "\n",
    "---\n",
    "\n",
    "`# This is Header 1`\n",
    "\n",
    "Turns into:\n",
    "\n",
    "# This is Header 1\n",
    "\n",
    "---\n",
    "\n",
    "`## This is Header 2`\n",
    "\n",
    "Turns into:\n",
    "\n",
    "## This is Header 2\n",
    "\n",
    "---\n",
    "\n",
    "`### This is Header 3`\n",
    "\n",
    "Turns into:\n",
    "\n",
    "### This is Header 3\n",
    "\n",
    "And so on...\n",
    "\n",
    "---\n",
    "\n",
    "You can see a more in detail introduction in the following links:\n",
    "\n",
    ">* https://help.github.com/articles/markdown-basics/\n",
    "\n",
    ">* https://help.github.com/articles/github-flavored-markdown/"
   ]
  },
  {
   "cell_type": "markdown",
   "metadata": {},
   "source": [
    "If you use headers right the Table of Contents feature will provide a nice tool to navigate your notebook."
   ]
  },
  {
   "cell_type": "markdown",
   "metadata": {},
   "source": [
    "### Rich content in a notebook"
   ]
  },
  {
   "cell_type": "markdown",
   "metadata": {},
   "source": [
    "Notebooks can also include rich content from the web. For that, we need to import the `display` module. This module allows you to embed, for example:\n",
    "- Youtube videos\n",
    "- HTML code\n",
    "- interactive maps\n",
    "- sound content\n",
    "- etc.\n",
    "\n",
    "We will not cover these aspects in great detail but leave this up to you to explore in your own time, if you are interested. A thorough exploration of these features is available at the following [link](https://notebook.community/CestDiego/emacs-ipython-notebook/tests/notebook/nbformat3/Display%20System).\n"
   ]
  },
  {
   "cell_type": "markdown",
   "metadata": {},
   "source": [
    "## `Python`"
   ]
  },
  {
   "cell_type": "markdown",
   "metadata": {},
   "source": [
    "The main bulk of the course relies on the [Python](https://www.python.org/) programming language. Python is a [high-level](https://en.wikipedia.org/wiki/High-level_programming_language) programming language widely used today. To give a couple of examples of its relevance, it is underlying [most of the Dropbox](https://www.quora.com/How-does-dropbox-use-python-What-features-are-implemented-in-it-any-tangentially-related-material?share=1) systems, but also heavily [used](https://www.python.org/about/success/usa/) to control satellites at NASA.\n",
    "\n",
    "This course uses Python because it has emerged as one of the main and most solid options for Data Science, together with other free alternatives such as R. Python is widely used for data processing and analysis both in academia and in industry. There is a vibrant and growing scientific community, working at both universities and companies, that supports and enhances its capabilities for data analysis by providing new and refining existing extensions (a.ka.a. libraries, see below). All of this means that, whether you are thinking of continuing in Higher Education or trying to find a job in industry, Python will be an importan asset that employers will significantly value.\n",
    "\n",
    "Being a high-level language means that the code can be \"dynamically interpreted\", which means it is run on-the-fly without the need to be compiled. This is in contrast to \"low-level\" programming languages, which first need to be converted into machine code (i.e. compiled) before they can be run. With Python, one does not need to worry about compilation and can just write code, evaluate, fix it, re-evaluate it, etc. in a quick cycle, making it a very productive tool. The rest of this tutorial covers some of the basic elements of the language, from conventions like how to comment your code, to the basic data structures available.\n",
    "\n",
    "We recommend the following resources for further introductory reading:\n",
    "- [Standard Python Tutorial](https://docs.python.org/3/tutorial/) \n",
    "- [Python Data Science Handbook (free ebook)](https://github.com/jakevdp/PythonDataScienceHandbook)\n",
    "- [Data Science from Scratch (free ebook)](http://math.ecnu.edu.cn/~lfzhou/seminar/[Joel_Grus]_Data_Science_from_Scratch_First_Princ.pdf)\n",
    "\n",
    "The most common \"built-in\" data types you will interact with when doing data science work are lists and dictionaries (there are of course additional types like Numpy Arrays, Pandas Dataframes, and others, but these are provided by external libraries). It's good to have a brief understanding of how to use these data structures effectively."
   ]
  },
  {
   "cell_type": "markdown",
   "metadata": {},
   "source": [
    "### Python data structures"
   ]
  },
  {
   "cell_type": "markdown",
   "metadata": {},
   "source": [
    "The standard python you can access without importing any additional libraries contains a few core data structures that is very handy to know. Most of data analysis is done on top of other structures specifically designed for the purpose (numpy arrays and pandas dataframes, mostly. See the following sessions for more details), but some understanding of these core Python structures is very useful. In this context, we will look at three: `values` (intergers and floats), `lists`, and `dictionaries`.\n",
    "\n",
    "An abundance of other data structures, which can be specific to external libraries are available (such as Numpy Arrays, for example). We will cover some of these in later tutorials"
   ]
  },
  {
   "cell_type": "markdown",
   "metadata": {},
   "source": [
    "#### Values \n",
    "\n",
    "These are the most basic elements to organize data and information in Python. You can think of them as numbers (integers or floats) or words (strings). Typically, these are the elements that will be stored in lists and dictionaries.\n",
    "\n",
    "An `integer` is a whole number:"
   ]
  },
  {
   "cell_type": "code",
   "execution_count": 6,
   "metadata": {},
   "outputs": [],
   "source": [
    "# assign a value to a variable i and return type of i"
   ]
  },
  {
   "cell_type": "code",
   "execution_count": 7,
   "metadata": {},
   "outputs": [
    {
     "data": {
      "text/plain": [
       "int"
      ]
     },
     "execution_count": 7,
     "metadata": {},
     "output_type": "execute_result"
    }
   ],
   "source": [
    "i = 7\n",
    "type(i)"
   ]
  },
  {
   "cell_type": "code",
   "execution_count": 8,
   "metadata": {},
   "outputs": [
    {
     "data": {
      "text/plain": [
       "7"
      ]
     },
     "execution_count": 8,
     "metadata": {},
     "output_type": "execute_result"
    }
   ],
   "source": [
    "i"
   ]
  },
  {
   "cell_type": "markdown",
   "metadata": {},
   "source": [
    "A `float` is a number that allows for decimals:"
   ]
  },
  {
   "cell_type": "code",
   "execution_count": 9,
   "metadata": {},
   "outputs": [
    {
     "data": {
      "text/plain": [
       "float"
      ]
     },
     "execution_count": 9,
     "metadata": {},
     "output_type": "execute_result"
    }
   ],
   "source": [
    "f = 5.5\n",
    "type(f)"
   ]
  },
  {
   "cell_type": "code",
   "execution_count": 10,
   "metadata": {},
   "outputs": [
    {
     "data": {
      "text/plain": [
       "float"
      ]
     },
     "execution_count": 10,
     "metadata": {},
     "output_type": "execute_result"
    }
   ],
   "source": [
    "fw = 5.\n",
    "type(fw)"
   ]
  },
  {
   "cell_type": "code",
   "execution_count": 11,
   "metadata": {},
   "outputs": [
    {
     "data": {
      "text/plain": [
       "True"
      ]
     },
     "execution_count": 11,
     "metadata": {},
     "output_type": "execute_result"
    }
   ],
   "source": [
    "fw == 5"
   ]
  },
  {
   "cell_type": "markdown",
   "metadata": {},
   "source": [
    "Note that a float can also not have decimals and still be stored as such:"
   ]
  },
  {
   "cell_type": "code",
   "execution_count": 12,
   "metadata": {},
   "outputs": [
    {
     "data": {
      "text/plain": [
       "float"
      ]
     },
     "execution_count": 12,
     "metadata": {},
     "output_type": "execute_result"
    }
   ],
   "source": [
    "fw = 5.\n",
    "type(fw)"
   ]
  },
  {
   "cell_type": "code",
   "execution_count": 13,
   "metadata": {},
   "outputs": [
    {
     "data": {
      "text/plain": [
       "5.0"
      ]
     },
     "execution_count": 13,
     "metadata": {},
     "output_type": "execute_result"
    }
   ],
   "source": [
    "fw"
   ]
  },
  {
   "cell_type": "markdown",
   "metadata": {},
   "source": [
    "The standard Python language includes some data types (e.g. lists, tuples, dictionaries, etc.) and allows many basic operations (e.g. sum, product, etc.). For example, right out of the box, and without any further action needed, you can use Python as a calculator:"
   ]
  },
  {
   "cell_type": "code",
   "execution_count": 14,
   "metadata": {},
   "outputs": [
    {
     "data": {
      "text/plain": [
       "10"
      ]
     },
     "execution_count": 14,
     "metadata": {},
     "output_type": "execute_result"
    }
   ],
   "source": [
    "5 + 5"
   ]
  },
  {
   "cell_type": "code",
   "execution_count": 15,
   "metadata": {},
   "outputs": [
    {
     "data": {
      "text/plain": [
       "0.6666666666666666"
      ]
     },
     "execution_count": 15,
     "metadata": {},
     "output_type": "execute_result"
    }
   ],
   "source": [
    "2. / 3"
   ]
  },
  {
   "cell_type": "code",
   "execution_count": 16,
   "metadata": {},
   "outputs": [
    {
     "data": {
      "text/plain": [
       "5.333333333333333"
      ]
     },
     "execution_count": 16,
     "metadata": {},
     "output_type": "execute_result"
    }
   ],
   "source": [
    "(3 + 5) * 2. / 3"
   ]
  },
  {
   "cell_type": "code",
   "execution_count": 17,
   "metadata": {},
   "outputs": [
    {
     "data": {
      "text/plain": [
       "0"
      ]
     },
     "execution_count": 17,
     "metadata": {},
     "output_type": "execute_result"
    }
   ],
   "source": [
    "4%2 # this is called the modulo (returns the remainder of the division)"
   ]
  },
  {
   "cell_type": "markdown",
   "metadata": {},
   "source": [
    "A `string`is a word, which can be delimited by single or double quotation marks (quotes have to match): "
   ]
  },
  {
   "cell_type": "code",
   "execution_count": 18,
   "metadata": {},
   "outputs": [
    {
     "name": "stdout",
     "output_type": "stream",
     "text": [
      "data science and machine learning\n"
     ]
    }
   ],
   "source": [
    "A = \"data science\"\n",
    "C = \"xxx\"\n",
    "B = 'and machine learning'\n",
    "D = 'xxx'\n",
    "print(A,B)"
   ]
  },
  {
   "cell_type": "code",
   "execution_count": 19,
   "metadata": {},
   "outputs": [],
   "source": [
    "E = 'xxx'"
   ]
  },
  {
   "cell_type": "code",
   "execution_count": 20,
   "metadata": {},
   "outputs": [
    {
     "data": {
      "text/plain": [
       "str"
      ]
     },
     "execution_count": 20,
     "metadata": {},
     "output_type": "execute_result"
    }
   ],
   "source": [
    "type(\"check\")"
   ]
  },
  {
   "cell_type": "code",
   "execution_count": 21,
   "metadata": {},
   "outputs": [
    {
     "data": {
      "text/plain": [
       "str"
      ]
     },
     "execution_count": 21,
     "metadata": {},
     "output_type": "execute_result"
    }
   ],
   "source": [
    "type (A)"
   ]
  },
  {
   "cell_type": "markdown",
   "metadata": {},
   "source": [
    "Mathematical operations can be applied for strings but they have different function. Only sum `+` and multiply `*` can be used for strings. Note that the \"+\" operator concatenates two strings without a space in between, whereas using the print function and a comma in between several strings does add a space (see above)."
   ]
  },
  {
   "cell_type": "code",
   "execution_count": 22,
   "metadata": {},
   "outputs": [
    {
     "data": {
      "text/plain": [
       "'data science'"
      ]
     },
     "execution_count": 22,
     "metadata": {},
     "output_type": "execute_result"
    }
   ],
   "source": [
    "A"
   ]
  },
  {
   "cell_type": "code",
   "execution_count": 23,
   "metadata": {},
   "outputs": [
    {
     "data": {
      "text/plain": [
       "'and machine learning'"
      ]
     },
     "execution_count": 23,
     "metadata": {},
     "output_type": "execute_result"
    }
   ],
   "source": [
    "B"
   ]
  },
  {
   "cell_type": "code",
   "execution_count": 24,
   "metadata": {},
   "outputs": [
    {
     "data": {
      "text/plain": [
       "str"
      ]
     },
     "execution_count": 24,
     "metadata": {},
     "output_type": "execute_result"
    }
   ],
   "source": [
    "type(\" \")"
   ]
  },
  {
   "cell_type": "code",
   "execution_count": 25,
   "metadata": {},
   "outputs": [
    {
     "name": "stdout",
     "output_type": "stream",
     "text": [
      "data science and machine learning\n",
      "data scienceand machine learning\n",
      "data science and machine learning\n",
      "data sciencedata sciencedata sciencedata sciencedata sciencedata science\n"
     ]
    }
   ],
   "source": [
    "print(A, B)\n",
    "print (A + B)\n",
    "print (A + \" \" + B)\n",
    "print ((A+\"\")*6)"
   ]
  },
  {
   "cell_type": "markdown",
   "metadata": {},
   "source": [
    "* **Lists**: a list is an ordered sequence of values that can be of mixed types. They are represented between squared brackets (`[]`) and, although not very efficient in memory terms, are very flexible and useful to \"put things together\".\n",
    "\n",
    "For example, the following list of integers:"
   ]
  },
  {
   "cell_type": "code",
   "execution_count": 26,
   "metadata": {},
   "outputs": [
    {
     "name": "stdout",
     "output_type": "stream",
     "text": [
      "[1, 2, 3, 4, 5, 6, 7]\n"
     ]
    }
   ],
   "source": [
    "l = [1, 2, 3, 4, 5, 6, 7]\n",
    "print(l)"
   ]
  },
  {
   "cell_type": "code",
   "execution_count": 27,
   "metadata": {},
   "outputs": [
    {
     "data": {
      "text/plain": [
       "list"
      ]
     },
     "execution_count": 27,
     "metadata": {},
     "output_type": "execute_result"
    }
   ],
   "source": [
    "type(l)"
   ]
  },
  {
   "cell_type": "markdown",
   "metadata": {},
   "source": [
    "Or the following mixed one:"
   ]
  },
  {
   "cell_type": "code",
   "execution_count": 28,
   "metadata": {},
   "outputs": [
    {
     "data": {
      "text/plain": [
       "['a', 'b', 5, 'c', 6, 7.6]"
      ]
     },
     "execution_count": 28,
     "metadata": {},
     "output_type": "execute_result"
    }
   ],
   "source": [
    "m = ['a', 'b', 5, 'c', 6, 7.6]\n",
    "m"
   ]
  },
  {
   "cell_type": "markdown",
   "metadata": {},
   "source": [
    "Lists can be queried and sliced. For example, the first element can be retrieved by:"
   ]
  },
  {
   "cell_type": "code",
   "execution_count": 29,
   "metadata": {},
   "outputs": [
    {
     "data": {
      "text/plain": [
       "6"
      ]
     },
     "execution_count": 29,
     "metadata": {},
     "output_type": "execute_result"
    }
   ],
   "source": [
    "len(m)"
   ]
  },
  {
   "cell_type": "code",
   "execution_count": 30,
   "metadata": {},
   "outputs": [
    {
     "data": {
      "text/plain": [
       "float"
      ]
     },
     "execution_count": 30,
     "metadata": {},
     "output_type": "execute_result"
    }
   ],
   "source": [
    "type(m[5])"
   ]
  },
  {
   "cell_type": "markdown",
   "metadata": {},
   "source": [
    "Or the third to the fourth:"
   ]
  },
  {
   "cell_type": "code",
   "execution_count": 31,
   "metadata": {},
   "outputs": [
    {
     "data": {
      "text/plain": [
       "6"
      ]
     },
     "execution_count": 31,
     "metadata": {},
     "output_type": "execute_result"
    }
   ],
   "source": [
    "m[4]"
   ]
  },
  {
   "cell_type": "code",
   "execution_count": 32,
   "metadata": {},
   "outputs": [
    {
     "data": {
      "text/plain": [
       "[5, 'c']"
      ]
     },
     "execution_count": 32,
     "metadata": {},
     "output_type": "execute_result"
    }
   ],
   "source": [
    "m[2:4]"
   ]
  },
  {
   "cell_type": "markdown",
   "metadata": {},
   "source": [
    "Lists can be added:"
   ]
  },
  {
   "cell_type": "code",
   "execution_count": 33,
   "metadata": {},
   "outputs": [
    {
     "data": {
      "text/plain": [
       "[1, 2, 3, 4, 5, 6, 7, 'a', 'b', 5, 'c', 6, 7.6]"
      ]
     },
     "execution_count": 33,
     "metadata": {},
     "output_type": "execute_result"
    }
   ],
   "source": [
    "l + m"
   ]
  },
  {
   "cell_type": "markdown",
   "metadata": {},
   "source": [
    "New elements added:"
   ]
  },
  {
   "cell_type": "code",
   "execution_count": 34,
   "metadata": {},
   "outputs": [
    {
     "data": {
      "text/plain": [
       "[1, 2, 3, 4, 5, 6, 7, 'a', 'b', 5, 'c', 6, 7.6]"
      ]
     },
     "execution_count": 34,
     "metadata": {},
     "output_type": "execute_result"
    }
   ],
   "source": [
    "l.extend(m)\n",
    "l"
   ]
  },
  {
   "cell_type": "markdown",
   "metadata": {},
   "source": [
    "Or modified:"
   ]
  },
  {
   "cell_type": "code",
   "execution_count": 35,
   "metadata": {},
   "outputs": [
    {
     "data": {
      "text/plain": [
       "'b'"
      ]
     },
     "execution_count": 35,
     "metadata": {},
     "output_type": "execute_result"
    }
   ],
   "source": [
    "m[1]"
   ]
  },
  {
   "cell_type": "code",
   "execution_count": 36,
   "metadata": {},
   "outputs": [
    {
     "data": {
      "text/plain": [
       "'two'"
      ]
     },
     "execution_count": 36,
     "metadata": {},
     "output_type": "execute_result"
    }
   ],
   "source": [
    "m[1] = 'two'\n",
    "m[1]"
   ]
  },
  {
   "cell_type": "code",
   "execution_count": 37,
   "metadata": {},
   "outputs": [
    {
     "data": {
      "text/plain": [
       "['a', 'two', 5, 'c', 6, 7.6]"
      ]
     },
     "execution_count": 37,
     "metadata": {},
     "output_type": "execute_result"
    }
   ],
   "source": [
    "m"
   ]
  },
  {
   "cell_type": "markdown",
   "metadata": {},
   "source": [
    "* **Dictionaries**: dictionaries are unordered collections of \"keys\" and \"values\". A key, which can be of any kind, is the element associated with a \"value\", which can also be of any kind. Dictionaries are used when order is not important but you need fast and easy lookup. They are expressed in curly brackets, with keys and values being linked through columns.\n",
    "\n",
    "For example, we can think of a dictionary to store a series of names and the ages of the people they represent:"
   ]
  },
  {
   "cell_type": "code",
   "execution_count": 38,
   "metadata": {},
   "outputs": [
    {
     "data": {
      "text/plain": [
       "{'Ana': 24, 'John': 20, 'Li': 27, 'Ivan': 40, 'Tali': 33}"
      ]
     },
     "execution_count": 38,
     "metadata": {},
     "output_type": "execute_result"
    }
   ],
   "source": [
    "ages = {'Ana': 24, 'John': 20, 'Li': 27, 'Ivan': 40, 'Tali':33}\n",
    "ages"
   ]
  },
  {
   "cell_type": "code",
   "execution_count": 39,
   "metadata": {},
   "outputs": [
    {
     "data": {
      "text/plain": [
       "dict"
      ]
     },
     "execution_count": 39,
     "metadata": {},
     "output_type": "execute_result"
    }
   ],
   "source": [
    "type(ages)"
   ]
  },
  {
   "cell_type": "code",
   "execution_count": 40,
   "metadata": {},
   "outputs": [
    {
     "data": {
      "text/plain": [
       "27"
      ]
     },
     "execution_count": 40,
     "metadata": {},
     "output_type": "execute_result"
    }
   ],
   "source": [
    "ages[\"Li\"]"
   ]
  },
  {
   "cell_type": "markdown",
   "metadata": {},
   "source": [
    "Dictionaries can then be queried and values retrieved easily by using their keys. For example, if we quickly want to know Li's age:"
   ]
  },
  {
   "cell_type": "code",
   "execution_count": 41,
   "metadata": {},
   "outputs": [
    {
     "data": {
      "text/plain": [
       "20"
      ]
     },
     "execution_count": 41,
     "metadata": {},
     "output_type": "execute_result"
    }
   ],
   "source": [
    "ages['John']"
   ]
  },
  {
   "cell_type": "markdown",
   "metadata": {},
   "source": [
    "Similarly to lists, you can modify and assign new values:"
   ]
  },
  {
   "cell_type": "code",
   "execution_count": 42,
   "metadata": {},
   "outputs": [
    {
     "data": {
      "text/plain": [
       "{'Ana': 24, 'John': 20, 'Li': 27, 'Ivan': 40, 'Tali': 33, 'Karsten': 28}"
      ]
     },
     "execution_count": 42,
     "metadata": {},
     "output_type": "execute_result"
    }
   ],
   "source": [
    "ages['Karsten'] = 28\n",
    "ages"
   ]
  },
  {
   "cell_type": "code",
   "execution_count": 43,
   "metadata": {},
   "outputs": [],
   "source": [
    "ages['Li'] = 30"
   ]
  },
  {
   "cell_type": "code",
   "execution_count": 44,
   "metadata": {},
   "outputs": [
    {
     "data": {
      "text/plain": [
       "{'Ana': 24, 'John': 20, 'Li': 30, 'Ivan': 40, 'Tali': 33, 'Karsten': 28}"
      ]
     },
     "execution_count": 44,
     "metadata": {},
     "output_type": "execute_result"
    }
   ],
   "source": [
    "ages"
   ]
  },
  {
   "cell_type": "markdown",
   "metadata": {},
   "source": [
    "Using this property, you can create entirely empty dictionaries and populate them later on:"
   ]
  },
  {
   "cell_type": "code",
   "execution_count": 45,
   "metadata": {},
   "outputs": [
    {
     "data": {
      "text/plain": [
       "{'key1': 1, 'key2': 2, 'keyn': 'n'}"
      ]
     },
     "execution_count": 45,
     "metadata": {},
     "output_type": "execute_result"
    }
   ],
   "source": [
    "newdict = {}\n",
    "newdict['key1'] = 1\n",
    "newdict['key2'] = 2\n",
    "newdict['keyn'] = \"n\"\n",
    "newdict"
   ]
  },
  {
   "cell_type": "markdown",
   "metadata": {},
   "source": [
    "### Variables"
   ]
  },
  {
   "cell_type": "markdown",
   "metadata": {},
   "source": [
    "A basic feature of Python is the ability to assign a name to different \"things\", or objects. These can also be called  \"variables\". We have already seen that in the example above but, to make it more explicit, let us make it even simpler. For example, an object can be a single number:"
   ]
  },
  {
   "cell_type": "code",
   "execution_count": 46,
   "metadata": {},
   "outputs": [],
   "source": [
    "flt = 3.1"
   ]
  },
  {
   "cell_type": "code",
   "execution_count": 47,
   "metadata": {},
   "outputs": [],
   "source": [
    "flt_xxx_YYY =45"
   ]
  },
  {
   "cell_type": "code",
   "execution_count": 48,
   "metadata": {},
   "outputs": [
    {
     "data": {
      "text/plain": [
       "45"
      ]
     },
     "execution_count": 48,
     "metadata": {},
     "output_type": "execute_result"
    }
   ],
   "source": [
    "flt_xxx_YYY"
   ]
  },
  {
   "cell_type": "markdown",
   "metadata": {},
   "source": [
    "Or a name, also called \"string\":"
   ]
  },
  {
   "cell_type": "code",
   "execution_count": 49,
   "metadata": {},
   "outputs": [],
   "source": [
    "a = 'Hello World'"
   ]
  },
  {
   "cell_type": "markdown",
   "metadata": {},
   "source": [
    "You can check what type an object is also easily:"
   ]
  },
  {
   "cell_type": "code",
   "execution_count": 50,
   "metadata": {},
   "outputs": [
    {
     "data": {
      "text/plain": [
       "str"
      ]
     },
     "execution_count": 50,
     "metadata": {},
     "output_type": "execute_result"
    }
   ],
   "source": [
    "type(a)"
   ]
  },
  {
   "cell_type": "markdown",
   "metadata": {},
   "source": [
    "`int` is short for \"integer\" which, roughly speaking, means an whole number. If you want to save a number with decimals, you will be using floats:"
   ]
  },
  {
   "cell_type": "code",
   "execution_count": 51,
   "metadata": {},
   "outputs": [
    {
     "data": {
      "text/plain": [
       "float"
      ]
     },
     "execution_count": 51,
     "metadata": {},
     "output_type": "execute_result"
    }
   ],
   "source": [
    "c = 1.5\n",
    "type(c)"
   ]
  },
  {
   "cell_type": "markdown",
   "metadata": {},
   "source": [
    "As mentioned, what we understand as letters in a wide sense (spaces and other signs count too) is called \"strings\" (`str` in short):"
   ]
  },
  {
   "cell_type": "code",
   "execution_count": 52,
   "metadata": {},
   "outputs": [],
   "source": [
    "b=\"this is a string\""
   ]
  },
  {
   "cell_type": "code",
   "execution_count": 53,
   "metadata": {
    "scrolled": true
   },
   "outputs": [
    {
     "data": {
      "text/plain": [
       "str"
      ]
     },
     "execution_count": 53,
     "metadata": {},
     "output_type": "execute_result"
    }
   ],
   "source": [
    "type(b)"
   ]
  },
  {
   "cell_type": "markdown",
   "metadata": {},
   "source": [
    "### Help"
   ]
  },
  {
   "cell_type": "markdown",
   "metadata": {},
   "source": [
    "A very handy feature of Python is the ability to access on-the-spot help for its different functions. This means that you can check what a function is supposed to do, or how to access it, right inside your Python session. Of course, this also works handsomely inside a notebook. There are a couple of ways to access the help. \n",
    "\n"
   ]
  },
  {
   "cell_type": "markdown",
   "metadata": {},
   "source": [
    "As you can see, this brings up a sub-window in the browser with all the information you need.\n",
    "\n",
    "If, for whatever reason, you needed to print that info into the notebook itself, you can do the following:"
   ]
  },
  {
   "cell_type": "code",
   "execution_count": 1,
   "metadata": {},
   "outputs": [],
   "source": [
    "#help(float)"
   ]
  },
  {
   "cell_type": "markdown",
   "metadata": {},
   "source": [
    "To call up the help menu another extremely useful shortcut is the key combination `shift+tab`. This, when pressed while your cursor is inside a function or method will produce a pop-up help menu."
   ]
  },
  {
   "cell_type": "code",
   "execution_count": 55,
   "metadata": {},
   "outputs": [
    {
     "data": {
      "text/plain": [
       "2"
      ]
     },
     "execution_count": 55,
     "metadata": {},
     "output_type": "execute_result"
    }
   ],
   "source": [
    "int(2.3)"
   ]
  },
  {
   "cell_type": "markdown",
   "metadata": {},
   "source": [
    "### Control flow (a.k.a. `for` loops and `if` statements)"
   ]
  },
  {
   "cell_type": "markdown",
   "metadata": {},
   "source": [
    "Although this does not intend to be a comprehensive introduction to computer programming or general purpose Python (check the references for that, in particular Allen Downey's [book](http://www.greenteapress.com/thinkpython/thinkpython.html)), it is important to be aware of two building blocks of almost any computer program: `for` loops and `if` statements. \n",
    "\n",
    "\n",
    "They can also come in very handy in cases where you some extra functionality out of standard methods. Without further ado, let us have a look and the two single most relevant tools of computer programming."
   ]
  },
  {
   "cell_type": "markdown",
   "metadata": {},
   "source": [
    "* `for` loops\n",
    "\n",
    "The general structure of a `for` loop is:\n",
    "\n",
    "```\n",
    "for conditional == True:\n",
    "    Do\n",
    "```\n",
    "\n",
    "These allow  you to repeat a particular action or task over a sequence. As an example, you can print your name ten times without having to type it yourself every single time:"
   ]
  },
  {
   "cell_type": "code",
   "execution_count": 2,
   "metadata": {},
   "outputs": [],
   "source": [
    "# let's define a list of values from 0 to 9\n",
    "\n",
    "lst = [0,1,2,3,4,5,6,7,8,9]"
   ]
  },
  {
   "cell_type": "code",
   "execution_count": 9,
   "metadata": {},
   "outputs": [
    {
     "name": "stdout",
     "output_type": "stream",
     "text": [
      "yourname\n",
      "yourname\n",
      "yourname\n",
      "yourname\n",
      "yourname\n",
      "yourname\n",
      "yourname\n",
      "yourname\n",
      "yourname\n",
      "yourname\n"
     ]
    }
   ],
   "source": [
    "for i in lst:\n",
    "    print('yourname')"
   ]
  },
  {
   "cell_type": "markdown",
   "metadata": {},
   "source": [
    "Note that you do not have to create a list for the sequence you want to loop over. Alternatively you can use the buil-in `range()`function."
   ]
  },
  {
   "cell_type": "code",
   "execution_count": 10,
   "metadata": {},
   "outputs": [
    {
     "name": "stdout",
     "output_type": "stream",
     "text": [
      "myname\n",
      "myname\n",
      "myname\n",
      "myname\n",
      "myname\n",
      "myname\n",
      "myname\n",
      "myname\n",
      "myname\n",
      "myname\n"
     ]
    }
   ],
   "source": [
    "for i in range(10):\n",
    "    print('myname')"
   ]
  },
  {
   "cell_type": "markdown",
   "metadata": {},
   "source": [
    "Note a couple of features in the loop:\n",
    "\n",
    "1. You loop *over* a sequence, in this particular case the sequence of ten numbers defined in `lst`or created by `range(10)`.\n",
    "1. In every step, for every element of the sequence in this case, you repeat an action. Here we are printing the same text, `my name`.\n",
    "1. Although not used in this simple loop, each of the elements you loop over can be accessed inside the loop. This can be irrelevant, as in the loop above, or extremely useful, it depends on the context. For example, see a case where you use the value of the sequence in each step:"
   ]
  },
  {
   "cell_type": "code",
   "execution_count": 8,
   "metadata": {},
   "outputs": [
    {
     "name": "stdout",
     "output_type": "stream",
     "text": [
      "I am at step  0\n",
      "I am at step  1\n",
      "I am at step  2\n",
      "I am at step  3\n",
      "I am at step  4\n",
      "I am at step  5\n",
      "I am at step  6\n",
      "I am at step  7\n",
      "I am at step  8\n",
      "I am at step  9\n",
      "I am at step  10\n",
      "I am at step  11\n"
     ]
    }
   ],
   "source": [
    "for i in range(12):\n",
    "    print(\"I am at step \", i)"
   ]
  },
  {
   "cell_type": "markdown",
   "metadata": {},
   "source": [
    "One more note: for convention, we are calling the element of the sequence `i` (for iterator), but this could be named anything. In fact, in many cases, more meaningful names make code much more readable. For example, you could think of a re-write of the loop above as:"
   ]
  },
  {
   "cell_type": "code",
   "execution_count": 60,
   "metadata": {},
   "outputs": [
    {
     "name": "stdout",
     "output_type": "stream",
     "text": [
      "I am at step  0\n",
      "I am at step  1\n",
      "I am at step  2\n",
      "I am at step  3\n",
      "I am at step  4\n",
      "I am at step  5\n",
      "I am at step  6\n",
      "I am at step  7\n",
      "I am at step  8\n",
      "I am at step  9\n"
     ]
    }
   ],
   "source": [
    "for step in range(10):\n",
    "    print(\"I am at step \", step)"
   ]
  },
  {
   "cell_type": "markdown",
   "metadata": {},
   "source": [
    "* `if` statements\n",
    "\n",
    "We have just seen how `for` loops allow you to repeat an action over a sequence. In the case of `if` statements, these allow you to select or restrict such actions to only those cases that meet a condition(s) you specify in the statement.\n",
    "\n",
    "The general structure of `if` statements is:\n",
    "\n",
    "```\n",
    "if conditional 1:\n",
    "    statement 1\n",
    "    \n",
    "elif conditional 2:\n",
    "    statement 2 \n",
    "    \n",
    "else : \n",
    "    statement 3\n",
    "```\n",
    "\n",
    "\n",
    "For example, if you think of the loops written above, you might want to only print those that are odd, skipping those that are even:"
   ]
  },
  {
   "cell_type": "code",
   "execution_count": 61,
   "metadata": {},
   "outputs": [
    {
     "name": "stdout",
     "output_type": "stream",
     "text": [
      "0\n",
      "2\n",
      "4\n",
      "6\n",
      "8\n",
      "10\n"
     ]
    }
   ],
   "source": [
    "for i in range(11):\n",
    "    if i%2 == 0:\n",
    "        print(i)"
   ]
  },
  {
   "cell_type": "markdown",
   "metadata": {},
   "source": [
    "The part `i%2` (also called modulo), is one way Python can check if a number is odd (as the modulo returns the remainder of a division). The important bit in this loop, however, is that we are using an `if` statement to select only those candidates that meet the condition. In other words, what we are doing is looping over every number in the sequence from zero to nine and checking if they are even or odd (`i.e. if i%2 != 0` the number is odd). If they meet the condition, i.e. they are odd, then we proceed and print them on the screen."
   ]
  },
  {
   "cell_type": "markdown",
   "metadata": {},
   "source": [
    "A full `if` statement also allows for an action to be taken if the original condition is not satisfied. This is called an \"ifelse\" statement. For example, you can think of a loop that prints the type of each number in a sequence:"
   ]
  },
  {
   "cell_type": "code",
   "execution_count": 62,
   "metadata": {},
   "outputs": [
    {
     "data": {
      "text/plain": [
       "[0, 1, 2, 3, 4, 5, 6, 7, 8, 9]"
      ]
     },
     "execution_count": 62,
     "metadata": {},
     "output_type": "execute_result"
    }
   ],
   "source": [
    "lst"
   ]
  },
  {
   "cell_type": "code",
   "execution_count": 63,
   "metadata": {},
   "outputs": [
    {
     "name": "stdout",
     "output_type": "stream",
     "text": [
      "0  is even\n",
      "1  is odd\n",
      "2  is even\n",
      "3  is odd\n",
      "4  is even\n",
      "5  is odd\n",
      "6  is even\n",
      "7  is odd\n",
      "8  is even\n",
      "9  is odd\n"
     ]
    }
   ],
   "source": [
    "for i in lst:\n",
    "    # Check if i is odd\n",
    "    if i%2 != 0:\n",
    "        print(i, ' is odd')\n",
    "    # If not odd (even), then do the following\n",
    "    else:\n",
    "        print(i, ' is even')"
   ]
  },
  {
   "cell_type": "markdown",
   "metadata": {},
   "source": [
    "### Functions"
   ]
  },
  {
   "cell_type": "markdown",
   "metadata": {},
   "source": [
    "The last part of quick overview relates to functions, or more properly termed, methods. The motivation is that, so far, we have only seen how you can create Python code that, if you want to run again somewhere else, you need to copy and paste entirely. However, as we will see in more detail later in the course, one of the main reasons why you want to use Python for data analysis, instead of a point-and-click graphical interface like SPSS, for instance, is that you can easily reuse code and re-run analyses easily. Methods help us accomplish this by encapsulating snippets of code that perform a particular task and making them available to be called.\n",
    "\n",
    "We have already *used* methods here. When we call `range()`, we are using one of them. Now, we will see how to *create* a method of our own that performs the specific task we want it to do. For example, let us create a very simple method to reproduce the first loop we created above:"
   ]
  },
  {
   "cell_type": "code",
   "execution_count": 64,
   "metadata": {},
   "outputs": [],
   "source": [
    "def run_simple_loop():\n",
    "    for i in range(10):\n",
    "        print(i)\n",
    "    return None"
   ]
  },
  {
   "cell_type": "code",
   "execution_count": 65,
   "metadata": {},
   "outputs": [],
   "source": [
    "def function_trial(x,y):\n",
    "    \n",
    "    # function body\n",
    "    ####\n",
    "    \n",
    "    result= y+x\n",
    "    \n",
    "    return result"
   ]
  },
  {
   "cell_type": "code",
   "execution_count": 66,
   "metadata": {},
   "outputs": [
    {
     "data": {
      "text/plain": [
       "5"
      ]
     },
     "execution_count": 66,
     "metadata": {},
     "output_type": "execute_result"
    }
   ],
   "source": [
    "function_trial(2,3)"
   ]
  },
  {
   "cell_type": "markdown",
   "metadata": {},
   "source": [
    "Already with this simple method, there is a bunch of interesting things going on:\n",
    "\n",
    "* First, note how we define a bit of code is a method, as oposed to plain Python: we use `def` followed by the name of our function (we have chosen `run_simple_loop`, but we anything could have done).\n",
    "* Second, we append `()` after the name, and finish the line with a colon (`:`). This is necessary and will allow us to specify requirements for the function (see below).\n",
    "* Third, realize that everything inside a function needs to be indented. This is a core property of Python and, although some people find it odd, it enhances readibility greatly.\n",
    "* Fourth, the piece of code to do the task we want, printing the sequence of numbers, is inside the function in the same way it was outside, only properly indented.\n",
    "* Fifth, we finish the method with a line starting by `return`. In this case, we follow it with `None`, but this will change as methods become more sophisticated. Essentially, this is the part of the method where you specify which elements you want it to return and save for later use.\n",
    "\n",
    "Once we have paid attention to these elements, we can see how the method can be *called* and hence the code inside it executed:"
   ]
  },
  {
   "cell_type": "code",
   "execution_count": 67,
   "metadata": {},
   "outputs": [
    {
     "name": "stdout",
     "output_type": "stream",
     "text": [
      "0\n",
      "1\n",
      "2\n",
      "3\n",
      "4\n",
      "5\n",
      "6\n",
      "7\n",
      "8\n",
      "9\n"
     ]
    }
   ],
   "source": [
    "run_simple_loop()"
   ]
  },
  {
   "cell_type": "markdown",
   "metadata": {},
   "source": [
    "This is the simplest possile method you can write: you do not require anything, just executing it, and the code produces and output (the printout) but it is not saved anywhere. The rest of this section relaxes these two aspects to allow us to build more complex, but also more useful, methods.\n",
    "\n",
    "First, you can specify \"arguments\" to be passed that modify the behaviour of the method. Remember how we called `np.arange` with a number that implied the length of the sequence we wanted returned. We can do the same thing in our own function. The main aspect to pay attention to in this context is that the arguments need to be variables, not particular values. Let us see a modified example of our method:"
   ]
  },
  {
   "cell_type": "code",
   "execution_count": 68,
   "metadata": {},
   "outputs": [],
   "source": [
    "def run_simple_loopX(x):\n",
    "    for i in range(x):\n",
    "        print(i)\n",
    "    return None"
   ]
  },
  {
   "cell_type": "markdown",
   "metadata": {},
   "source": [
    "We have replaced the fixed length of the sequence (10) by a variable named `x` that allows us to specify *any value we want* when we call the method:"
   ]
  },
  {
   "cell_type": "code",
   "execution_count": 69,
   "metadata": {},
   "outputs": [
    {
     "name": "stdout",
     "output_type": "stream",
     "text": [
      "0\n",
      "1\n",
      "2\n"
     ]
    }
   ],
   "source": [
    "run_simple_loopX(3)"
   ]
  },
  {
   "cell_type": "code",
   "execution_count": 70,
   "metadata": {},
   "outputs": [
    {
     "name": "stdout",
     "output_type": "stream",
     "text": [
      "0\n",
      "1\n"
     ]
    }
   ],
   "source": [
    "run_simple_loopX(2)"
   ]
  },
  {
   "cell_type": "markdown",
   "metadata": {},
   "source": [
    "Our function does not save (or more accurately return) anything:"
   ]
  },
  {
   "cell_type": "code",
   "execution_count": 71,
   "metadata": {},
   "outputs": [
    {
     "name": "stdout",
     "output_type": "stream",
     "text": [
      "0\n",
      "1\n",
      "2\n",
      "3\n",
      "4\n",
      "5\n",
      "6\n",
      "7\n",
      "8\n",
      "9\n",
      "10\n",
      "11\n",
      "12\n",
      "13\n",
      "14\n",
      "15\n",
      "16\n",
      "17\n",
      "18\n",
      "19\n"
     ]
    }
   ],
   "source": [
    "b = run_simple_loopX(20)"
   ]
  },
  {
   "cell_type": "code",
   "execution_count": 72,
   "metadata": {},
   "outputs": [],
   "source": [
    "#b"
   ]
  },
  {
   "cell_type": "markdown",
   "metadata": {},
   "source": [
    "We can modify this using the last line of a method. For example, let us assume we want to return a sequence as long as the series of numbers we print on the screen. The method should be:"
   ]
  },
  {
   "cell_type": "code",
   "execution_count": 73,
   "metadata": {},
   "outputs": [],
   "source": [
    "def run_simple_loopX(x):\n",
    "    for i in range(x):\n",
    "        print(i)\n",
    "    return range(x)"
   ]
  },
  {
   "cell_type": "markdown",
   "metadata": {},
   "source": [
    "Note the main difference: instead of returning `None`, we are telling Python to return a sequence, which has the same length as the one used to specify the loop. Now, there is an alternative way of being more efficient in this method, and that is assigning the sequence to a new object and using it when necessary later on. The results are exactly the same, but there are less computations performed and, more critically, we minimize the chances of making mistakes."
   ]
  },
  {
   "cell_type": "code",
   "execution_count": 74,
   "metadata": {},
   "outputs": [],
   "source": [
    "def run_simple_loopX(x):\n",
    "    seq = range(x)\n",
    "    for i in seq:\n",
    "        print(i)\n",
    "    return seq"
   ]
  },
  {
   "cell_type": "markdown",
   "metadata": {},
   "source": [
    "Either of these two new versions of the method return an output:"
   ]
  },
  {
   "cell_type": "code",
   "execution_count": 75,
   "metadata": {},
   "outputs": [
    {
     "name": "stdout",
     "output_type": "stream",
     "text": [
      "0\n",
      "1\n",
      "2\n",
      "3\n",
      "4\n",
      "5\n",
      "6\n",
      "7\n",
      "8\n",
      "9\n",
      "10\n",
      "11\n",
      "12\n"
     ]
    }
   ],
   "source": [
    "a = run_simple_loopX(13)\n",
    "#b = run_simple_loopXout(3)"
   ]
  },
  {
   "cell_type": "code",
   "execution_count": 76,
   "metadata": {},
   "outputs": [
    {
     "data": {
      "text/plain": [
       "range(0, 13)"
      ]
     },
     "execution_count": 76,
     "metadata": {},
     "output_type": "execute_result"
    }
   ],
   "source": [
    "a"
   ]
  },
  {
   "cell_type": "code",
   "execution_count": 77,
   "metadata": {},
   "outputs": [],
   "source": [
    "b"
   ]
  },
  {
   "cell_type": "markdown",
   "metadata": {},
   "source": [
    "The advantage of methods, as oposed to straight code, is that they force us to think in a modular (object oriented) way, helping us identify exactly what it needs to be done, in what order, and what it is required. Encapsulating these atomic bits of functionality in methods allows us to write things once and flexibly use them everywhere, saving us time (and headaches) in the long run."
   ]
  },
  {
   "cell_type": "markdown",
   "metadata": {},
   "source": [
    "A final note on functions. It is important that, whenever you create a function, you include some documentation about what it expects, what it does, and what it returns. Although there are many ways of doing this, the typical convention for these so-called __docstring__ (i.e., documentation strings) is as follows:"
   ]
  },
  {
   "cell_type": "code",
   "execution_count": 78,
   "metadata": {},
   "outputs": [],
   "source": [
    "def run_simple_loopXout(x):\n",
    "    \n",
    "    \"\"\"\n",
    "    Print out the values of a sequence of certain length\n",
    "    ...\n",
    "    \n",
    "    Arguments\n",
    "    ---------\n",
    "    x     : int\n",
    "            Length of the sequence to be printed out\n",
    "    \n",
    "    Returns\n",
    "    -------\n",
    "    seq   : np.array\n",
    "            Sequence of values printed out\n",
    "    \"\"\"\n",
    "    \n",
    "    seq = np.arange(x)\n",
    "    for i in seq:\n",
    "        print(i)\n",
    "    return seq"
   ]
  },
  {
   "cell_type": "markdown",
   "metadata": {},
   "source": [
    "Documentation, as any string, are highlighted in red on a notebook. Let us have a look at the structure and components of a well-made documentation (also called \"docstring\"):\n",
    "\n",
    "* It is encapsulated between triple commas (`\"\"\"`).\n",
    "* Begins with a short description of what the method does. The shorter the better, the more concise, the even better.\n",
    "* There is a section called \"Arguments\" that lists the elements that the function expects. \n",
    "* Each argument is then listed, followed by its type. In this case it is an object `x` that, as we are told, needs to be an integer.\n",
    "* The arguments are followed by another section that specifies what the function returns, and of what type the output is.\n",
    "\n",
    "Documentation in this way is very useful to remember what a function does, but also to force yourself to write clearer code. A bonus is that, if you include documentation in this way, it can be checked with the standard `help` or `?` systems reviewed above:"
   ]
  },
  {
   "cell_type": "code",
   "execution_count": 79,
   "metadata": {},
   "outputs": [
    {
     "data": {
      "text/plain": [
       "\u001b[0;31mSignature:\u001b[0m \u001b[0mrun_simple_loopXout\u001b[0m\u001b[0;34m(\u001b[0m\u001b[0mx\u001b[0m\u001b[0;34m)\u001b[0m\u001b[0;34m\u001b[0m\u001b[0;34m\u001b[0m\u001b[0m\n",
       "\u001b[0;31mDocstring:\u001b[0m\n",
       "Print out the values of a sequence of certain length\n",
       "...\n",
       "\n",
       "Arguments\n",
       "---------\n",
       "x     : int\n",
       "        Length of the sequence to be printed out\n",
       "\n",
       "Returns\n",
       "-------\n",
       "seq   : np.array\n",
       "        Sequence of values printed out\n",
       "\u001b[0;31mFile:\u001b[0m      ~/Code/Teaching/DSML_2021/03_Workshops/DSML_WS_01_Setup&Tools/<ipython-input-78-0bf13e92e3fb>\n",
       "\u001b[0;31mType:\u001b[0m      function\n"
      ]
     },
     "metadata": {},
     "output_type": "display_data"
    }
   ],
   "source": [
    "run_simple_loopXout?"
   ]
  },
  {
   "cell_type": "code",
   "execution_count": 80,
   "metadata": {},
   "outputs": [
    {
     "name": "stdout",
     "output_type": "stream",
     "text": [
      "Help on function run_simple_loopXout in module __main__:\n",
      "\n",
      "run_simple_loopXout(x)\n",
      "    Print out the values of a sequence of certain length\n",
      "    ...\n",
      "    \n",
      "    Arguments\n",
      "    ---------\n",
      "    x     : int\n",
      "            Length of the sequence to be printed out\n",
      "    \n",
      "    Returns\n",
      "    -------\n",
      "    seq   : np.array\n",
      "            Sequence of values printed out\n",
      "\n"
     ]
    }
   ],
   "source": [
    "help(run_simple_loopXout)"
   ]
  },
  {
   "cell_type": "code",
   "execution_count": 82,
   "metadata": {},
   "outputs": [],
   "source": [
    "#run_simple_loopXout()"
   ]
  },
  {
   "cell_type": "markdown",
   "metadata": {},
   "source": [
    "### Exercise to work on your own"
   ]
  },
  {
   "cell_type": "markdown",
   "metadata": {},
   "source": [
    "Write a properly documented python function that can perform the taks of a simple calculator with the following behaviour:\n",
    "\n",
    "1. The desired mathematical operation (plus, minus, divide, multiply)\n",
    "\n",
    "1. Two numbers shall be passed by user input\n",
    "\n",
    "1. The result shall be calculated and printed\n",
    "\n",
    "1. If the input for mathematical operation is not covered by the list from above, print \"Please correct your input\"\n",
    "\n",
    "**You should use the following elements:** \n",
    "\n",
    "- If/elif/else statement\n",
    "- Functions\n",
    "- Mathematical experessions\n",
    "\n"
   ]
  },
  {
   "cell_type": "code",
   "execution_count": 83,
   "metadata": {},
   "outputs": [],
   "source": [
    "def simple_calc(first_num, ops, second_num):\n",
    "    \n",
    "    \n",
    "    \"\"\"\n",
    "    Perform a mathematical operation between two numbers\n",
    "    ...\n",
    "    \n",
    "    Arguments\n",
    "    ---------\n",
    "    first_num     : int/float\n",
    "                    first number in calculation\n",
    "                    \n",
    "    ops           : str\n",
    "                    mathematical operation; ops=[\"plus\", \"minus\", \"multiply\", \"divide\"]\n",
    "    \n",
    "    second_num    : int/float\n",
    "                    second number in calculation\n",
    "    \n",
    "    Returns\n",
    "    -------\n",
    "    seq   : str\n",
    "            Operation and results of operation as string\n",
    "    \"\"\"\n",
    "    \n",
    "    \n",
    "    user_input = \"{} {} {} = \".format(first_num, ops, second_num)\n",
    "    \n",
    "    \n",
    "    #### Your Code below\n",
    "    \n",
    "    # check numerical input\n",
    "    \n",
    "\n",
    "    # check if selected operation is in [\"plus\",\"minus\",\"multiply\",\"divide\"]\n",
    "    \n",
    "    \n",
    "    # perform calculations\n",
    "    \n",
    "\n",
    "    # return user_input and result\n",
    "    \n",
    "    return print(user_input, result)\n",
    "    "
   ]
  },
  {
   "cell_type": "code",
   "execution_count": 86,
   "metadata": {},
   "outputs": [
    {
     "name": "stdout",
     "output_type": "stream",
     "text": [
      "6 divide 2 =  3.0\n"
     ]
    }
   ],
   "source": [
    "simple_calc(6,\"divide\",2)"
   ]
  },
  {
   "cell_type": "markdown",
   "metadata": {},
   "source": [
    "---"
   ]
  }
 ],
 "metadata": {
  "kernelspec": {
   "display_name": "Python 3 (ipykernel)",
   "language": "python",
   "name": "python3"
  },
  "language_info": {
   "codemirror_mode": {
    "name": "ipython",
    "version": 3
   },
   "file_extension": ".py",
   "mimetype": "text/x-python",
   "name": "python",
   "nbconvert_exporter": "python",
   "pygments_lexer": "ipython3",
   "version": "3.8.13"
  }
 },
 "nbformat": 4,
 "nbformat_minor": 4
}
