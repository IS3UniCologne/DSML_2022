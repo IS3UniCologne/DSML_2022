{
 "cells": [
  {
   "cell_type": "markdown",
   "metadata": {},
   "source": [
    "# `DSML Workshop 06` - Quick Run Through Git(Hub)"
   ]
  },
  {
   "cell_type": "markdown",
   "metadata": {},
   "source": [
    "### Intro to Git\n",
    "\n",
    "Git is a __versioning tool__. That means that it is used to __keep track of changes__ in\n",
    "(text-based) files. This way, you never have to worry about accidentally deleting a functioning\n",
    "version and not being able to recovering it.\n",
    "It doesn’t have to be used for code, but can be used for any files. However, its\n",
    "full functionality can only be used when those files are text-based (as you can\n",
    "directly track changes).\n",
    "\n",
    "Git’s functionality can be used directly with any Git GUI. See [here](https://en.wikipedia.org/wiki/Comparison_of_Git_GUIs) for an overview. To cover\n",
    "the most important commands, however we are going through them in their\n",
    "command line form. Using them directly this way is easier with UNIX systems,\n",
    "but also possible with Windows via [git for windows](https://gitforwindows.org) "
   ]
  },
  {
   "cell_type": "markdown",
   "metadata": {},
   "source": [
    "Git is __distributed__. This means that every collaborator on a project has her or his\n",
    "own copy of the project. Also, everyone keeps track of all changes on their\n",
    "machine."
   ]
  },
  {
   "cell_type": "markdown",
   "metadata": {},
   "source": [
    "### Setting up a new git repository"
   ]
  },
  {
   "cell_type": "markdown",
   "metadata": {},
   "source": [
    "You can do this with realtive ease via the command line but here we create a new repo directly via GitHub, the preeminent git hosting service. You can access [GitHub here](https://github.com). __If you do not yet have a GitHub accout, please create one now!__\n",
    "\n",
    "Once you have your account set up, log into GitHub and set up a new __private repository__. (We will do this together now, but below is a screenshot of how it should look). Consider the following:\n",
    "- Make the repository private for now. Even in the free basic plan GitHub allows for an unlimited amount of collaborators. Private repos can only be accessed by collaborators, which the repo owner can invite\n",
    "- Add a Readme.md file. This provides a nice space to provide some introduction to the repo and explain the folder structure. Use the markdown language for this, which is the same as the one used in a text cell such as this one.\n",
    "- Add a .gitignore file. GitHub offers a wide range of templates including a good one for python. .gitignore files tell git which file types it should not track!\n",
    "\n",
    "![GitPic](GitRepo_Creator_NEW.png)"
   ]
  },
  {
   "cell_type": "markdown",
   "metadata": {},
   "source": [
    "### Cloning a remote git repo on your machine\n",
    "\n",
    "Cloning creates a local directory for your repository by copying from a remote\n",
    "location. You can do this easily via the command line like so:\n",
    "\n",
    "- Navigate to the sub-director to where you want to clone the repo\n",
    "- type `git clone <path>`"
   ]
  },
  {
   "cell_type": "markdown",
   "metadata": {},
   "source": [
    "### Tracking Changes and basic version control\n",
    "\n",
    "Now that you (ideally)\n",
    "have both local and\n",
    "remote directories, we\n",
    "actually want to track\n",
    "changes. To understand\n",
    "how these are tracked,\n",
    "the following diagram\n",
    "helps.\n",
    "\n",
    "![GitFlow](Git_Workflow.png)\n",
    "\n",
    "For more information [The Free Code Camp](https://www.freecodecamp.org/news/learn-the-basics-of-git-in-under-10-minutes-da548267cc91/) provides a good and concise overview."
   ]
  },
  {
   "cell_type": "markdown",
   "metadata": {},
   "source": [
    "We will now follow through a very simple git workflow by\n",
    "- Pulling the remote repo using `git pull`. This is a standard step that shuld be performed whenever you start working on code to ensure you are working on the latest version.\n",
    "- Making local changes to the Readme.md file and creating a basic folder structure in the working directory\n",
    "- Adding the changes to the staging area using `git add <filename>`\n",
    "- Committing the changes to the local repository `git commit -m \"<message>\"`\n",
    "- Pushing the changes to the remote repo hosted on GitHub using `git push`"
   ]
  },
  {
   "cell_type": "markdown",
   "metadata": {},
   "source": [
    "This was a very quick and quite basic run through git which will help get you started with your git repos for the team assignment. You will undoubtedly encounter further questions and issues as you continue working with git. The following practical resources are helpful:\n",
    "- [GitHub Hello World How To](https://guides.github.com/activities/hello-world/)\n",
    "- [Medium GitHub Tutorial](https://towardsdatascience.com/getting-started-with-git-and-github-6fcd0f2d4ac6)\n",
    "- [Free Code Camp Git Intro](https://www.freecodecamp.org/news/learn-the-basics-of-git-in-under-10-minutes-da548267cc91/)"
   ]
  },
  {
   "cell_type": "markdown",
   "metadata": {},
   "source": [
    "---"
   ]
  }
 ],
 "metadata": {
  "kernelspec": {
   "display_name": "Python 3 (ipykernel)",
   "language": "python",
   "name": "python3"
  },
  "language_info": {
   "codemirror_mode": {
    "name": "ipython",
    "version": 3
   },
   "file_extension": ".py",
   "mimetype": "text/x-python",
   "name": "python",
   "nbconvert_exporter": "python",
   "pygments_lexer": "ipython3",
   "version": "3.8.13"
  }
 },
 "nbformat": 4,
 "nbformat_minor": 4
}
