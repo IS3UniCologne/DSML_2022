{
 "cells": [
  {
   "cell_type": "code",
   "execution_count": null,
   "metadata": {},
   "outputs": [],
   "source": [
    "# import packages\n",
    "\n",
    "\n",
    "\n",
    "\n",
    "\n",
    "\n"
   ]
  },
  {
   "cell_type": "markdown",
   "metadata": {},
   "source": [
    "# `DSML_WS_02` - Introduction to Python Library Management & `NumPy`"
   ]
  },
  {
   "cell_type": "markdown",
   "metadata": {},
   "source": [
    "In this tutorial we will introduce the concept of python libraries and cover a first such library - NumPy.\n",
    "\n",
    "We will go through the following:\n",
    "\n",
    "- Introduction to the concept of `Python Libraries`\n",
    "- Introduction to `NumPy`"
   ]
  },
  {
   "cell_type": "markdown",
   "metadata": {},
   "source": [
    "## `Python Libraries`"
   ]
  },
  {
   "cell_type": "markdown",
   "metadata": {},
   "source": [
    "**Introduction to Libraries**\n",
    "\n",
    "A library (or module, or package) is a Python object with arbitrarily named attributes that you can bind and reference. Simply, a module is a file consisting of Python code. A module can define functions, classes and variables. A module can also include runnable code.\n",
    "\n",
    "You can use any Python source file as a module by executing an import statement in some other Python source file. The import has the following syntax:\n",
    "\n",
    "\n",
    "```\n",
    "import <module name>\n",
    "```\n",
    "\n",
    "By convention is is common to name modules so they can be called by entering an abreviated name. This is effectively importing the module in the same way that `import <module name>` will do, with the only difference of it being available as ` <module name abbreviation>`. In the case of `numpy`, for example, the abbreviation `np`is used.\n",
    "\n",
    "```\n",
    "import <module name> as <module name abbreviation>\n",
    "```\n"
   ]
  },
  {
   "cell_type": "markdown",
   "metadata": {},
   "source": [
    "**Exercise**: Import the NumPy (`numpy`) module and abbreviate it with `np`for easier access"
   ]
  },
  {
   "cell_type": "code",
   "execution_count": 1,
   "metadata": {},
   "outputs": [],
   "source": [
    "# your code here\n",
    "\n",
    "import numpy as np\n"
   ]
  },
  {
   "cell_type": "code",
   "execution_count": null,
   "metadata": {},
   "outputs": [],
   "source": [
    "array()"
   ]
  },
  {
   "cell_type": "code",
   "execution_count": null,
   "metadata": {},
   "outputs": [],
   "source": [
    "np.array()"
   ]
  },
  {
   "cell_type": "markdown",
   "metadata": {},
   "source": [
    "**Adding/Installing Libraries**\n",
    "\n",
    "To add Python libraries to your installation you can use the `conda` package manager that we have installed in the last workshop. Alternatively you can also use the `pip` package manager. The quickest way to do so is via a terminal:\n",
    "\n",
    "* If you are on a **Windows** computer, use the \"Anaconda Command Prompt\" from the Start menu. \n",
    "* On a **Mac**, start up the \"Terminal\". \n",
    "* In **Linux**, use any of the terminals available.\n",
    "\n",
    "\n",
    "The gerneral command syntax is the following:\n",
    "\n",
    "```\n",
    "conda install <package name>\n",
    "```\n",
    "\n",
    "If you are looking for a specific package but are unsure of the exact command line name do a quick google search and/or check the [Anaconda Cloud](https://anaconda.org).\n",
    "\n",
    "Tip: It is recommended to retrieve all packages from the same conda channel such as conda forge to ensure smooth working of all dependencies. Simply run the following:\n",
    "\n",
    "```\n",
    "conda install -c conda-forge <package name>\n",
    "```"
   ]
  },
  {
   "cell_type": "markdown",
   "metadata": {},
   "source": [
    "**Relevant Libraries for this course**\n",
    "\n",
    "There is a large variety of open source libraries available in Python. Below is a list of some of the most relevant ones for data science, which will be covered in this course.\n",
    "\n",
    "* Selected data science libraries\n",
    "\n",
    "    * Data Analysis and Processing\n",
    "    >* Pandas (pd)\n",
    "    >* Numpy (np)\n",
    "    * Visualization        \n",
    "    >* matplotlib and pyplot (plt)\n",
    "    >* seaborn (sns)\n",
    "    * Models and methods\n",
    "    >* Scikit Learn (sklearn)\n",
    "    >* statsmodels\n",
    "    \n",
    "    \n",
    "Tip: It is usually advisable to stick with a certain channel to retrieve all your libraries. For me `conda-forge`has proven to be super stable. You can specify the channel from which to retireve a package by adding `c - <channel name>` to the install command."
   ]
  },
  {
   "cell_type": "markdown",
   "metadata": {},
   "source": [
    "### <font color='green'>**Exercise**: Install ScikitLearn on your machine using the command `conda install -c conda-forge scikit-learn`. Afterwards import the library here to test whether the installation was successfull using `import sklearn`.</font>"
   ]
  },
  {
   "cell_type": "code",
   "execution_count": 2,
   "metadata": {},
   "outputs": [],
   "source": [
    "# Your code here\n",
    "\n",
    "import sklearn\n",
    "\n"
   ]
  },
  {
   "cell_type": "markdown",
   "metadata": {},
   "source": [
    "---"
   ]
  },
  {
   "cell_type": "markdown",
   "metadata": {},
   "source": [
    "## `NumPy`"
   ]
  },
  {
   "cell_type": "markdown",
   "metadata": {},
   "source": [
    "NumPy is the fundamental package for scientific computing with Python. It contains among other things:\n",
    "\n",
    "- A powerful N-dimensional array object\n",
    "- Sophisticated (broadcasting) functions\n",
    "- Tools for integrating C/C++ and Fortran code\n",
    "- Useful linear algebra, Fourier transform, and random number capabilities allowing for efficient matrix operations.\n",
    "\n",
    "Besides its obvious scientific uses, NumPy can also be used as an efficient multi-dimensional container of generic data. Arbitrary data-types can be defined. This allows NumPy to seamlessly and speedily integrate with a wide variety of databases.\n",
    "\n",
    "NumPy’s main object is the homogeneous multidimensional array. It is a table of elements (usually numbers), all of the same type, indexed by a tuple of positive integers. In NumPy dimensions are called axes. The number of axes is rank.\n",
    "\n",
    "In today's short overview tutorial we will cover the following:\n",
    "\n",
    "1. **Creating NumPy Arrays**\n",
    "1. **Manipulating NumPy Arrays**\n",
    "1. **NumPy Array Operations**"
   ]
  },
  {
   "cell_type": "markdown",
   "metadata": {},
   "source": [
    "Let's get started..."
   ]
  },
  {
   "cell_type": "code",
   "execution_count": 3,
   "metadata": {},
   "outputs": [],
   "source": [
    "import numpy as np"
   ]
  },
  {
   "cell_type": "code",
   "execution_count": 6,
   "metadata": {},
   "outputs": [
    {
     "data": {
      "text/plain": [
       "array([1, 2, 3])"
      ]
     },
     "execution_count": 6,
     "metadata": {},
     "output_type": "execute_result"
    }
   ],
   "source": [
    "np.array([1,2,3])"
   ]
  },
  {
   "cell_type": "code",
   "execution_count": 5,
   "metadata": {},
   "outputs": [
    {
     "data": {
      "text/plain": [
       "numpy.ndarray"
      ]
     },
     "execution_count": 5,
     "metadata": {},
     "output_type": "execute_result"
    }
   ],
   "source": [
    "type(np.array([1,2,3]))"
   ]
  },
  {
   "cell_type": "markdown",
   "metadata": {},
   "source": [
    "### Creating NumPy Arrays\n",
    "\n",
    "First, we can use `np.array` to create arrays from python lists. Unlike the Python lists, **NumPy is constrained to arrays that all contain the same type**. If types don't match, NumPy will upcast if possible. "
   ]
  },
  {
   "cell_type": "code",
   "execution_count": 7,
   "metadata": {},
   "outputs": [
    {
     "data": {
      "text/plain": [
       "array([1, 2, 3, 4, 5])"
      ]
     },
     "execution_count": 7,
     "metadata": {},
     "output_type": "execute_result"
    }
   ],
   "source": [
    "A = np.array([1,2,3,4,5])\n",
    "A"
   ]
  },
  {
   "cell_type": "code",
   "execution_count": 8,
   "metadata": {},
   "outputs": [
    {
     "data": {
      "text/plain": [
       "numpy.ndarray"
      ]
     },
     "execution_count": 8,
     "metadata": {},
     "output_type": "execute_result"
    }
   ],
   "source": [
    "type(A)"
   ]
  },
  {
   "cell_type": "code",
   "execution_count": 10,
   "metadata": {},
   "outputs": [
    {
     "data": {
      "text/plain": [
       "array([3. , 5.1, 4.6, 6. ])"
      ]
     },
     "execution_count": 10,
     "metadata": {},
     "output_type": "execute_result"
    }
   ],
   "source": [
    "# Let's try to create an Array with integers and floats, note that NumPy upcasts everything to floats!\n",
    "B = np.array([3, 5.1, 4.6, 6])\n",
    "B"
   ]
  },
  {
   "cell_type": "markdown",
   "metadata": {},
   "source": [
    "If we want to explicitly set the data type of the resulting array, we can use the `dtype` keyword."
   ]
  },
  {
   "cell_type": "code",
   "execution_count": 12,
   "metadata": {},
   "outputs": [
    {
     "name": "stdout",
     "output_type": "stream",
     "text": [
      "[1.  2.  3.4 8. ]\n"
     ]
    }
   ],
   "source": [
    "C = np.array([1,2,3.4,8],dtype = float)\n",
    "print (C)"
   ]
  },
  {
   "cell_type": "markdown",
   "metadata": {},
   "source": [
    "Other examples of creating arrays using np functions:"
   ]
  },
  {
   "cell_type": "code",
   "execution_count": 14,
   "metadata": {},
   "outputs": [
    {
     "name": "stdout",
     "output_type": "stream",
     "text": [
      "[[0. 0. 0. 0. 0.]]\n"
     ]
    }
   ],
   "source": [
    "# create vector of length 5 filled with zeros\n",
    "E = np.zeros(shape=(1,5),dtype = float)\n",
    "print(E)"
   ]
  },
  {
   "cell_type": "code",
   "execution_count": 17,
   "metadata": {},
   "outputs": [
    {
     "name": "stdout",
     "output_type": "stream",
     "text": [
      "[ 0  1  2  3  4  5  6  7  8  9 10 11]\n"
     ]
    }
   ],
   "source": [
    "# create vector from 0-12 in steps of 2\n",
    "G = np.arange(0,12,1)\n",
    "print(G)"
   ]
  },
  {
   "cell_type": "code",
   "execution_count": 18,
   "metadata": {},
   "outputs": [
    {
     "name": "stdout",
     "output_type": "stream",
     "text": [
      "E = [0. 0. 0. 0. 0.] \n",
      "\n",
      "F = [[1. 1. 1. 1.]\n",
      " [1. 1. 1. 1.]] \n",
      "\n",
      "G = [ 0  2  4  6  8 10] \n",
      "\n",
      "H = [0.   0.25 0.5  0.75 1.  ] \n",
      "\n",
      "I = [[0.56617181 0.64946856]\n",
      " [0.94398285 0.74327327]] \n",
      "\n",
      "J = [[[0 6]\n",
      "  [1 2]\n",
      "  [0 3]]\n",
      "\n",
      " [[2 9]\n",
      "  [8 7]\n",
      "  [4 6]]\n",
      "\n",
      " [[2 1]\n",
      "  [0 4]\n",
      "  [6 1]]\n",
      "\n",
      " [[1 4]\n",
      "  [3 7]\n",
      "  [4 8]]]\n"
     ]
    }
   ],
   "source": [
    "# create vector of length 5 filled with zeros\n",
    "E = np.zeros(5,dtype = float)\n",
    "\n",
    "# create 2x4 matrix of ones (float)\n",
    "F = np.ones((2,4), dtype= float)\n",
    "\n",
    "# create vector from 0-12 in steps of 2\n",
    "G = np.arange(0,12,2)\n",
    "\n",
    "# create vector from 0 to 1 with five equally (linearly) spaced elements \n",
    "H = np.linspace(0,1,5)\n",
    "\n",
    "# create a 2x2 matrix with random floats in the half-open interval [0.0, 1.0)\n",
    "I = np.random.random((2,2))\n",
    "\n",
    "#Return random integers from 0 (inclusive) to 10 (exclusive) of size (4,3,2)\n",
    "J = np.random.randint (0,10,(4,3,2))\n",
    "\n",
    "print(\"E =\", E,\n",
    "      \"\\n\\nF =\", F, \n",
    "      \"\\n\\nG =\", G, \n",
    "      \"\\n\\nH =\", H, \n",
    "      \"\\n\\nI =\", I, \n",
    "      \"\\n\\nJ =\", J)"
   ]
  },
  {
   "cell_type": "markdown",
   "metadata": {},
   "source": [
    "**Exercise**: Define a few additional NumPy Arrays using some or all of the commands introduced above"
   ]
  },
  {
   "cell_type": "code",
   "execution_count": 22,
   "metadata": {},
   "outputs": [
    {
     "name": "stdout",
     "output_type": "stream",
     "text": [
      "[[1 1 1 1 1 1 1 1 1 1 1 1 1 1 1]\n",
      " [1 1 1 1 1 1 1 1 1 1 1 1 1 1 1]\n",
      " [1 1 1 1 1 1 1 1 1 1 1 1 1 1 1]\n",
      " [1 1 1 1 1 1 1 1 1 1 1 1 1 1 1]\n",
      " [1 1 1 1 1 1 1 1 1 1 1 1 1 1 1]]\n",
      "[[0.40891044 0.90994384 0.63722375]\n",
      " [0.22598789 0.00898326 0.0891482 ]\n",
      " [0.0644691  0.89308203 0.98201132]]\n"
     ]
    }
   ],
   "source": [
    "# Your code here\n",
    "\n",
    "\n",
    "print(np.ones(shape=(5,15), dtype=int))\n",
    "\n",
    "print(np.random.random((3,3)))\n",
    "\n"
   ]
  },
  {
   "cell_type": "markdown",
   "metadata": {},
   "source": [
    "### Manipulating NumPy Arrays"
   ]
  },
  {
   "cell_type": "markdown",
   "metadata": {},
   "source": [
    "Data manipulation in Python is nearly synonymous with NumPy array manipulation (although a lot of it may happen in higher-level frameworks like pandas). We will cover a few categories of basic array manipulations here:\n",
    "- **Attributes of arrays**: Determinig the size, shape, memory consumption and data type of arrays.\n",
    "- **Indexing of arrays**: Getting and setting the value of indivisual array elements.\n",
    "- **Slicing of arrays**: Getting and setting smaller subarrays within a larger array.\n",
    "- **Reshaping of arrays**: Changing the shape of a given array.\n",
    "- **Joining and splitting of arrays**: Combining multiple arrays into one, and splitting one array into many."
   ]
  },
  {
   "cell_type": "markdown",
   "metadata": {},
   "source": [
    "#### NumPy Array Attributes:\n",
    "In the following some examples on attributes are presented."
   ]
  },
  {
   "cell_type": "code",
   "execution_count": 31,
   "metadata": {},
   "outputs": [
    {
     "data": {
      "text/plain": [
       "(5,)"
      ]
     },
     "execution_count": 31,
     "metadata": {},
     "output_type": "execute_result"
    }
   ],
   "source": [
    "A.shape"
   ]
  },
  {
   "cell_type": "code",
   "execution_count": 35,
   "metadata": {},
   "outputs": [
    {
     "data": {
      "text/plain": [
       "array([[1., 1., 1., 1.],\n",
       "       [1., 1., 1., 1.]])"
      ]
     },
     "execution_count": 35,
     "metadata": {},
     "output_type": "execute_result"
    }
   ],
   "source": [
    "F"
   ]
  },
  {
   "cell_type": "code",
   "execution_count": 38,
   "metadata": {},
   "outputs": [
    {
     "data": {
      "text/plain": [
       "64"
      ]
     },
     "execution_count": 38,
     "metadata": {},
     "output_type": "execute_result"
    }
   ],
   "source": [
    "F.nbytes"
   ]
  },
  {
   "cell_type": "code",
   "execution_count": 23,
   "metadata": {},
   "outputs": [
    {
     "name": "stdout",
     "output_type": "stream",
     "text": [
      "F ndim:  2\n",
      "F shape:  (2, 4)\n",
      "J size:  24\n",
      "H dtype:  float64\n",
      "itemsize:  8  bytes\n",
      "nbytes:   32 bytes\n"
     ]
    }
   ],
   "source": [
    "# returns dimension\n",
    "print(\"F ndim: \", F.ndim)\n",
    "\n",
    "# returns shape in form (#row,#col)\n",
    "print(\"F shape: \" , F.shape) ##### Most important!\n",
    "\n",
    "# returns size (i.e. no of elements)\n",
    "print(\"J size: \", J.size)\n",
    "\n",
    "# returns data type\n",
    "print(\"H dtype: \", H.dtype)\n",
    "\n",
    "# returns length of one array element in bytes\n",
    "print(\"itemsize: \", I.itemsize,\" bytes\")\n",
    "\n",
    "# returns total bytes consumed by the elements of the array\n",
    "print(\"nbytes:  \", I.nbytes, \"bytes\")"
   ]
  },
  {
   "cell_type": "markdown",
   "metadata": {},
   "source": [
    "#### NumPy Array Indexing:\n",
    "In the following some examples on attributes are presented. Note that, for a 1-dimensional array, this is very similar to indexing and slicing lists!"
   ]
  },
  {
   "cell_type": "markdown",
   "metadata": {},
   "source": [
    "Accessing single elements:"
   ]
  },
  {
   "cell_type": "code",
   "execution_count": 40,
   "metadata": {},
   "outputs": [
    {
     "data": {
      "text/plain": [
       "array([1, 2, 3, 4, 5])"
      ]
     },
     "execution_count": 40,
     "metadata": {},
     "output_type": "execute_result"
    }
   ],
   "source": [
    "A"
   ]
  },
  {
   "cell_type": "code",
   "execution_count": 42,
   "metadata": {},
   "outputs": [
    {
     "data": {
      "text/plain": [
       "5"
      ]
     },
     "execution_count": 42,
     "metadata": {},
     "output_type": "execute_result"
    }
   ],
   "source": [
    "# index the array from the front and the back\n",
    "\n",
    "A[4]"
   ]
  },
  {
   "cell_type": "code",
   "execution_count": 43,
   "metadata": {},
   "outputs": [
    {
     "name": "stdout",
     "output_type": "stream",
     "text": [
      "The 4th element of A is 4\n",
      "The last element of A is 5\n"
     ]
    }
   ],
   "source": [
    "print (\"The 4th element of A is {}\". format(A[3]))\n",
    "print (\"The last element of A is {}\". format(A[-1])) # index from the back"
   ]
  },
  {
   "cell_type": "markdown",
   "metadata": {},
   "source": [
    "In a multidimensional array (i.e. a matrix), you access items using a comma-seperated tuple of indices."
   ]
  },
  {
   "cell_type": "code",
   "execution_count": 44,
   "metadata": {},
   "outputs": [
    {
     "data": {
      "text/plain": [
       "(2, 2)"
      ]
     },
     "execution_count": 44,
     "metadata": {},
     "output_type": "execute_result"
    }
   ],
   "source": [
    "I.shape"
   ]
  },
  {
   "cell_type": "code",
   "execution_count": 45,
   "metadata": {},
   "outputs": [
    {
     "data": {
      "text/plain": [
       "array([[0.56617181, 0.64946856],\n",
       "       [0.94398285, 0.74327327]])"
      ]
     },
     "execution_count": 45,
     "metadata": {},
     "output_type": "execute_result"
    }
   ],
   "source": [
    "I"
   ]
  },
  {
   "cell_type": "code",
   "execution_count": 48,
   "metadata": {},
   "outputs": [
    {
     "data": {
      "text/plain": [
       "0.9439828509357419"
      ]
     },
     "execution_count": 48,
     "metadata": {},
     "output_type": "execute_result"
    }
   ],
   "source": [
    "I[1,0]"
   ]
  },
  {
   "cell_type": "code",
   "execution_count": 49,
   "metadata": {},
   "outputs": [
    {
     "name": "stdout",
     "output_type": "stream",
     "text": [
      "The first element of I is 0.5661718103208241\n",
      "The last element of I is 0.7432732699717839\n"
     ]
    }
   ],
   "source": [
    "print (\"The first element of I is {}\".format(I[0,0]))  #array[row,column]\n",
    "print (\"The last element of I is {}\".format(I[1,1]))   #array[row,column]"
   ]
  },
  {
   "cell_type": "markdown",
   "metadata": {},
   "source": [
    "#### NumPy Array Slicing:\n",
    "\n",
    "**One-dimensional arrays**\n",
    "\n",
    "Just as we can use square brakets to access individual array elements, we can also use them to access subarrays with the slice notation, marked by the colon `:` character. The syntax is as follow:\n",
    "` X[start (incl.):stop (excl.):step]`"
   ]
  },
  {
   "cell_type": "code",
   "execution_count": 76,
   "metadata": {},
   "outputs": [
    {
     "data": {
      "text/plain": [
       "array([ 0,  2,  4,  6,  8, 10])"
      ]
     },
     "execution_count": 76,
     "metadata": {},
     "output_type": "execute_result"
    }
   ],
   "source": [
    "G"
   ]
  },
  {
   "cell_type": "code",
   "execution_count": 52,
   "metadata": {},
   "outputs": [
    {
     "data": {
      "text/plain": [
       "array([2, 4])"
      ]
     },
     "execution_count": 52,
     "metadata": {},
     "output_type": "execute_result"
    }
   ],
   "source": [
    "G[1:3]"
   ]
  },
  {
   "cell_type": "code",
   "execution_count": 53,
   "metadata": {},
   "outputs": [
    {
     "data": {
      "text/plain": [
       "array([10,  8,  6,  4,  2,  0])"
      ]
     },
     "execution_count": 53,
     "metadata": {},
     "output_type": "execute_result"
    }
   ],
   "source": [
    "G[::-1] # this combination allwos you to reverse the order (reverse steps indicated by -1)."
   ]
  },
  {
   "cell_type": "code",
   "execution_count": 54,
   "metadata": {},
   "outputs": [
    {
     "name": "stdout",
     "output_type": "stream",
     "text": [
      "middle subarray: [4 6]\n",
      "First 3 elements: [0 2 4]\n",
      "Last 2 elements: [ 8 10]\n",
      "Every other element: [0 4 8]\n",
      "All elements reversed: [10  8  6  4  2  0]\n"
     ]
    }
   ],
   "source": [
    "# item 3 and 4\n",
    "print (\"middle subarray:\", G[2:4])\n",
    "\n",
    "# item 1 to 4(excl.)\n",
    "print(\"First 3 elements:\", G[:3])\n",
    "\n",
    "# last 3\n",
    "print(\"Last 2 elements:\", G[-2:] )\n",
    "\n",
    "# first element and every second element from there\n",
    "print(\"Every other element:\", G[::2])\n",
    "\n",
    "\n",
    "print (\"All elements reversed:\", G[::-1])"
   ]
  },
  {
   "cell_type": "markdown",
   "metadata": {},
   "source": [
    "**Multi-dimensional arrays**\n",
    "\n",
    "Multi-dimensional slices work in the same way, with multiple slices seperated by commas. The command is `X[slice row, slice column]`"
   ]
  },
  {
   "cell_type": "code",
   "execution_count": 56,
   "metadata": {},
   "outputs": [
    {
     "data": {
      "text/plain": [
       "array([[ 7, 15, 15, 13],\n",
       "       [10,  7, 17, 10],\n",
       "       [ 4, 13, 19, 14]])"
      ]
     },
     "execution_count": 56,
     "metadata": {},
     "output_type": "execute_result"
    }
   ],
   "source": [
    "# create a multi-dimensional array\n",
    "K = np.random.randint(low=0,high=20, size=(3,4)) \n",
    "# note you can readily drop the input names \"low\", \"high\", \"size\" as long as you retain the correct order!\n",
    "K"
   ]
  },
  {
   "cell_type": "code",
   "execution_count": 57,
   "metadata": {},
   "outputs": [
    {
     "name": "stdout",
     "output_type": "stream",
     "text": [
      "The first two rows and the first three column: \n",
      " [[ 7 15 15]\n",
      " [10  7 17]]\n"
     ]
    }
   ],
   "source": [
    "print (\"The first two rows and the first three column: \\n\", K[:2,:3])"
   ]
  },
  {
   "cell_type": "code",
   "execution_count": 59,
   "metadata": {},
   "outputs": [
    {
     "name": "stdout",
     "output_type": "stream",
     "text": [
      "All rows and every other column:\n",
      " [[ 7 15]\n",
      " [10 17]\n",
      " [ 4 19]]\n"
     ]
    }
   ],
   "source": [
    "print(\"All rows and every other column:\\n\", K[:,::2])"
   ]
  },
  {
   "cell_type": "code",
   "execution_count": 60,
   "metadata": {},
   "outputs": [
    {
     "name": "stdout",
     "output_type": "stream",
     "text": [
      "Reversed:\n",
      " [[14 19 13  4]\n",
      " [10 17  7 10]\n",
      " [13 15 15  7]]\n"
     ]
    }
   ],
   "source": [
    "print(\"Reversed:\\n\",K[::-1,::-1])"
   ]
  },
  {
   "cell_type": "markdown",
   "metadata": {},
   "source": [
    "**Exercise**: Familiarize yourself with indexing by attempting some indexing techniques on the arrays defined above"
   ]
  },
  {
   "cell_type": "code",
   "execution_count": 66,
   "metadata": {},
   "outputs": [
    {
     "name": "stdout",
     "output_type": "stream",
     "text": [
      "[[14 19 13  4]\n",
      " [10 17  7 10]\n",
      " [13 15 15  7]]\n",
      "(3, 4)\n",
      "15\n",
      "[[10 17  7 10]]\n"
     ]
    }
   ],
   "source": [
    "# Your code here\n",
    "# create array (multi-dimensional!)\n",
    "X = K[::-1,::-1]\n",
    "print(X)\n",
    "print(X.shape)\n",
    "\n",
    "# do some slicing/indexing\n",
    "\n",
    "#get some element\n",
    "print(X[-1,1]) #last row, second col\n",
    "\n",
    "#get a slice\n",
    "print(X[1:2,:])\n"
   ]
  },
  {
   "cell_type": "markdown",
   "metadata": {},
   "source": [
    "#### NumPy Array Reshaping:\n",
    "\n",
    "Another useful type of operation is reshaping of arrays. The most flexible way of doing this is with the reshape method. Note that for this to work, the size of the initial array must match the size of the reshaped array."
   ]
  },
  {
   "cell_type": "code",
   "execution_count": 68,
   "metadata": {},
   "outputs": [
    {
     "data": {
      "text/plain": [
       "array([ 1,  2,  3,  4,  5,  6,  7,  8,  9, 10, 11, 12, 13, 14, 15, 16, 17,\n",
       "       18, 19, 20, 21, 22, 23, 24])"
      ]
     },
     "execution_count": 68,
     "metadata": {},
     "output_type": "execute_result"
    }
   ],
   "source": [
    "# return evenly spaced values within a given interval\n",
    "Y = np.arange(1,25)\n",
    "Y"
   ]
  },
  {
   "cell_type": "code",
   "execution_count": 69,
   "metadata": {},
   "outputs": [
    {
     "data": {
      "text/plain": [
       "1"
      ]
     },
     "execution_count": 69,
     "metadata": {},
     "output_type": "execute_result"
    }
   ],
   "source": [
    "Y.ndim"
   ]
  },
  {
   "cell_type": "code",
   "execution_count": 70,
   "metadata": {},
   "outputs": [
    {
     "data": {
      "text/plain": [
       "24"
      ]
     },
     "execution_count": 70,
     "metadata": {},
     "output_type": "execute_result"
    }
   ],
   "source": [
    "len(Y)"
   ]
  },
  {
   "cell_type": "code",
   "execution_count": 74,
   "metadata": {},
   "outputs": [
    {
     "data": {
      "text/plain": [
       "array([[ 1,  2,  3,  4,  5,  6],\n",
       "       [ 7,  8,  9, 10, 11, 12],\n",
       "       [13, 14, 15, 16, 17, 18],\n",
       "       [19, 20, 21, 22, 23, 24]])"
      ]
     },
     "execution_count": 74,
     "metadata": {},
     "output_type": "execute_result"
    }
   ],
   "source": [
    "# we can re-shape this array into any shape with 24 elements\n",
    "\n",
    "Y.reshape(4,6) # 6*4=24 items"
   ]
  },
  {
   "cell_type": "markdown",
   "metadata": {},
   "source": [
    "#### NumPy Array Concatenation and Splitting\n",
    "\n",
    "All of the preceding routines worked on single arrays. It's also possible to combine multiple arrays into one, and to conversely split a single array into multiple arrays."
   ]
  },
  {
   "cell_type": "markdown",
   "metadata": {},
   "source": [
    "**Concatination of arrays**\n",
    "\n",
    "Concatenation, or joining of two arrays in NumPy, is primarily accomplished using the routine `np.concatenate`. Additionally `np.vstack`, and `np.hstack` may be used."
   ]
  },
  {
   "cell_type": "code",
   "execution_count": 75,
   "metadata": {},
   "outputs": [
    {
     "data": {
      "text/plain": [
       "array([1, 2, 3, 4, 5, 6])"
      ]
     },
     "execution_count": 75,
     "metadata": {},
     "output_type": "execute_result"
    }
   ],
   "source": [
    "P = np.array([1,2,3])\n",
    "Q = np.array([4,5,6])\n",
    "np.concatenate((P,Q))"
   ]
  },
  {
   "cell_type": "code",
   "execution_count": 76,
   "metadata": {},
   "outputs": [],
   "source": [
    "R = np.array([[3,5,7],[1,3,5]])\n",
    "S = np.array([[2,4,2],[0,9,8]])"
   ]
  },
  {
   "cell_type": "code",
   "execution_count": 77,
   "metadata": {},
   "outputs": [
    {
     "data": {
      "text/plain": [
       "array([[3, 5, 7],\n",
       "       [1, 3, 5]])"
      ]
     },
     "execution_count": 77,
     "metadata": {},
     "output_type": "execute_result"
    }
   ],
   "source": [
    "R"
   ]
  },
  {
   "cell_type": "code",
   "execution_count": 78,
   "metadata": {},
   "outputs": [
    {
     "data": {
      "text/plain": [
       "array([[2, 4, 2],\n",
       "       [0, 9, 8]])"
      ]
     },
     "execution_count": 78,
     "metadata": {},
     "output_type": "execute_result"
    }
   ],
   "source": [
    "S"
   ]
  },
  {
   "cell_type": "code",
   "execution_count": 97,
   "metadata": {},
   "outputs": [
    {
     "name": "stdout",
     "output_type": "stream",
     "text": [
      "[[3 5 7 2 4 2]\n",
      " [1 3 5 0 9 8]]\n"
     ]
    }
   ],
   "source": [
    "#The axis along which the arrays will be joined.\n",
    "print(np.concatenate((R,S), axis = 1))"
   ]
  },
  {
   "cell_type": "markdown",
   "metadata": {},
   "source": [
    "For working with arrays of mixed dimensions, it can be more practical to use the `np.vstack` (vertical stack, i.e. you stacking on top of each other) and `np.hstack` (horizontal stack, i.e. stacking next to each other) functions:"
   ]
  },
  {
   "cell_type": "code",
   "execution_count": 79,
   "metadata": {},
   "outputs": [],
   "source": [
    "R = np.array([[3,5,7],[1,3,5]])\n",
    "S = np.array([[2,4,2],[0,9,8]])"
   ]
  },
  {
   "cell_type": "code",
   "execution_count": 80,
   "metadata": {},
   "outputs": [
    {
     "data": {
      "text/plain": [
       "array([[3, 5, 7],\n",
       "       [1, 3, 5],\n",
       "       [2, 4, 2],\n",
       "       [0, 9, 8]])"
      ]
     },
     "execution_count": 80,
     "metadata": {},
     "output_type": "execute_result"
    }
   ],
   "source": [
    "# stack row-wise\n",
    "np.vstack((R,S))"
   ]
  },
  {
   "cell_type": "code",
   "execution_count": 81,
   "metadata": {},
   "outputs": [
    {
     "data": {
      "text/plain": [
       "array([[3, 5, 7, 2, 4, 2],\n",
       "       [1, 3, 5, 0, 9, 8]])"
      ]
     },
     "execution_count": 81,
     "metadata": {},
     "output_type": "execute_result"
    }
   ],
   "source": [
    "# stack column-wise\n",
    "np.hstack((R,S))"
   ]
  },
  {
   "cell_type": "markdown",
   "metadata": {},
   "source": [
    "**Splitting of arrays**\n",
    "\n",
    "The opposite of concatenation is splitting, which is implemented by the functions `np.split`, `np.hsplit`, and `np.vsplit`. For each of these, we can pass a list of indices giving the split points:"
   ]
  },
  {
   "cell_type": "code",
   "execution_count": 82,
   "metadata": {},
   "outputs": [],
   "source": [
    "# Devides the x array to n equal subarrays.\n",
    "x = np.array([2,4,6,7,8,9,1,3,11,35,55,34])\n"
   ]
  },
  {
   "cell_type": "code",
   "execution_count": 85,
   "metadata": {},
   "outputs": [
    {
     "data": {
      "text/plain": [
       "(12,)"
      ]
     },
     "execution_count": 85,
     "metadata": {},
     "output_type": "execute_result"
    }
   ],
   "source": [
    "x.shape"
   ]
  },
  {
   "cell_type": "code",
   "execution_count": 90,
   "metadata": {},
   "outputs": [],
   "source": [
    "x1, x2, x3 = np.split(x,3)\n",
    "#print(x1, x2, x3)"
   ]
  },
  {
   "cell_type": "code",
   "execution_count": 91,
   "metadata": {},
   "outputs": [
    {
     "data": {
      "text/plain": [
       "array([2, 4, 6, 7])"
      ]
     },
     "execution_count": 91,
     "metadata": {},
     "output_type": "execute_result"
    }
   ],
   "source": [
    "x1"
   ]
  },
  {
   "cell_type": "code",
   "execution_count": 92,
   "metadata": {},
   "outputs": [
    {
     "data": {
      "text/plain": [
       "array([8, 9, 1, 3])"
      ]
     },
     "execution_count": 92,
     "metadata": {},
     "output_type": "execute_result"
    }
   ],
   "source": [
    "x2"
   ]
  },
  {
   "cell_type": "code",
   "execution_count": 93,
   "metadata": {},
   "outputs": [
    {
     "data": {
      "text/plain": [
       "array([[ 0,  1,  2,  3],\n",
       "       [ 4,  5,  6,  7],\n",
       "       [ 8,  9, 10, 11],\n",
       "       [12, 13, 14, 15]])"
      ]
     },
     "execution_count": 93,
     "metadata": {},
     "output_type": "execute_result"
    }
   ],
   "source": [
    "# lets create some new array\n",
    "Z = np.arange(16).reshape((4, 4))\n",
    "Z"
   ]
  },
  {
   "cell_type": "code",
   "execution_count": 94,
   "metadata": {},
   "outputs": [
    {
     "name": "stdout",
     "output_type": "stream",
     "text": [
      "[[0 1 2 3]] [[4 5 6 7]] [[ 8  9 10 11]] [[12 13 14 15]]\n"
     ]
    }
   ],
   "source": [
    "#Splits an array into multiple sub-arrays vertically (row-wise).\n",
    "row1,row2,row3,row4 = np.vsplit(Z, 4)\n",
    "\n",
    "print (row1,row2,row3,row4)"
   ]
  },
  {
   "cell_type": "code",
   "execution_count": 95,
   "metadata": {},
   "outputs": [
    {
     "name": "stdout",
     "output_type": "stream",
     "text": [
      "left: \n",
      " [[ 0]\n",
      " [ 4]\n",
      " [ 8]\n",
      " [12]]\n",
      "middle1: \n",
      " [[ 1]\n",
      " [ 5]\n",
      " [ 9]\n",
      " [13]]\n",
      "middle2: \n",
      " [[ 2]\n",
      " [ 6]\n",
      " [10]\n",
      " [14]]\n",
      "right: \n",
      " [[ 3]\n",
      " [ 7]\n",
      " [11]\n",
      " [15]]\n"
     ]
    }
   ],
   "source": [
    "#Splits an array into multiple sub-arrays vertically (column-wise).\n",
    "left,middle1,middle2, right = np.hsplit(Z, 4)\n",
    "print(\"left: \\n\",left)\n",
    "print(\"middle1: \\n\",middle1)\n",
    "print(\"middle2: \\n\",middle2)\n",
    "print(\"right: \\n\",right)"
   ]
  },
  {
   "cell_type": "markdown",
   "metadata": {},
   "source": [
    "**Exercise**: Create a few arrays and concantenate them, afterwards split them to arrive at the original arrays"
   ]
  },
  {
   "cell_type": "code",
   "execution_count": 107,
   "metadata": {},
   "outputs": [],
   "source": [
    "# Your code here\n",
    "\n",
    "\n",
    "\n",
    "\n",
    "\n",
    "\n",
    "\n",
    "\n"
   ]
  },
  {
   "cell_type": "markdown",
   "metadata": {},
   "source": [
    "### NumPy Array Operations\n",
    "\n",
    "Numpy also allows for **element-wise** as well as linear algebra **matrix-type** operations, which are a key component of scientifiy computing tasks. Matrix operations make computing fast and easy. It is the core functionality of `numpy`."
   ]
  },
  {
   "cell_type": "code",
   "execution_count": 96,
   "metadata": {},
   "outputs": [],
   "source": [
    "A = np.array([1,2,3,4])\n",
    "B = np.array([9,3,-9,6])"
   ]
  },
  {
   "cell_type": "code",
   "execution_count": 97,
   "metadata": {},
   "outputs": [
    {
     "data": {
      "text/plain": [
       "array([1, 2, 3, 4])"
      ]
     },
     "execution_count": 97,
     "metadata": {},
     "output_type": "execute_result"
    }
   ],
   "source": [
    "A"
   ]
  },
  {
   "cell_type": "code",
   "execution_count": 98,
   "metadata": {},
   "outputs": [
    {
     "data": {
      "text/plain": [
       "array([ 9,  3, -9,  6])"
      ]
     },
     "execution_count": 98,
     "metadata": {},
     "output_type": "execute_result"
    }
   ],
   "source": [
    "B"
   ]
  },
  {
   "cell_type": "markdown",
   "metadata": {},
   "source": [
    "**Element-wise operations**"
   ]
  },
  {
   "cell_type": "code",
   "execution_count": 99,
   "metadata": {},
   "outputs": [
    {
     "data": {
      "text/plain": [
       "array([10,  5, -6, 10])"
      ]
     },
     "execution_count": 99,
     "metadata": {},
     "output_type": "execute_result"
    }
   ],
   "source": [
    "# element-wise addition\n",
    "\n",
    "C=A+B\n",
    "C"
   ]
  },
  {
   "cell_type": "code",
   "execution_count": 100,
   "metadata": {},
   "outputs": [
    {
     "data": {
      "text/plain": [
       "array([-8, -1, 12, -2])"
      ]
     },
     "execution_count": 100,
     "metadata": {},
     "output_type": "execute_result"
    }
   ],
   "source": [
    "# element-wise substraction\n",
    "\n",
    "D=A-B\n",
    "D"
   ]
  },
  {
   "cell_type": "code",
   "execution_count": 101,
   "metadata": {},
   "outputs": [
    {
     "data": {
      "text/plain": [
       "array([  9,   6, -27,  24])"
      ]
     },
     "execution_count": 101,
     "metadata": {},
     "output_type": "execute_result"
    }
   ],
   "source": [
    "# element-wise multiplication\n",
    "\n",
    "E=A*B\n",
    "E"
   ]
  },
  {
   "cell_type": "code",
   "execution_count": 102,
   "metadata": {},
   "outputs": [
    {
     "data": {
      "text/plain": [
       "array([ 0.11111111,  0.66666667, -0.33333333,  0.66666667])"
      ]
     },
     "execution_count": 102,
     "metadata": {},
     "output_type": "execute_result"
    }
   ],
   "source": [
    "# element-wise division\n",
    "\n",
    "F=A/B\n",
    "F"
   ]
  },
  {
   "cell_type": "markdown",
   "metadata": {},
   "source": [
    "**Matrix operations**"
   ]
  },
  {
   "cell_type": "code",
   "execution_count": 103,
   "metadata": {},
   "outputs": [
    {
     "data": {
      "text/plain": [
       "array([[0, 1, 2, 3, 4],\n",
       "       [5, 6, 7, 8, 9]])"
      ]
     },
     "execution_count": 103,
     "metadata": {},
     "output_type": "execute_result"
    }
   ],
   "source": [
    "M = np.arange(10).reshape(2,5)\n",
    "M"
   ]
  },
  {
   "cell_type": "code",
   "execution_count": 104,
   "metadata": {},
   "outputs": [
    {
     "data": {
      "text/plain": [
       "array([[1, 4, 2, 2, 2],\n",
       "       [8, 7, 9, 4, 7]])"
      ]
     },
     "execution_count": 104,
     "metadata": {},
     "output_type": "execute_result"
    }
   ],
   "source": [
    "N = np.random.randint(1,10,10).reshape(2,5)\n",
    "N"
   ]
  },
  {
   "cell_type": "code",
   "execution_count": 105,
   "metadata": {},
   "outputs": [
    {
     "name": "stdout",
     "output_type": "stream",
     "text": [
      "(2, 5)\n",
      "(2, 5)\n"
     ]
    },
    {
     "ename": "ValueError",
     "evalue": "matmul: Input operand 1 has a mismatch in its core dimension 0, with gufunc signature (n?,k),(k,m?)->(n?,m?) (size 2 is different from 5)",
     "output_type": "error",
     "traceback": [
      "\u001b[0;31m---------------------------------------------------------------------------\u001b[0m",
      "\u001b[0;31mValueError\u001b[0m                                Traceback (most recent call last)",
      "Input \u001b[0;32mIn [105]\u001b[0m, in \u001b[0;36m<cell line: 4>\u001b[0;34m()\u001b[0m\n\u001b[1;32m      2\u001b[0m \u001b[38;5;28mprint\u001b[39m(M\u001b[38;5;241m.\u001b[39mshape)\n\u001b[1;32m      3\u001b[0m \u001b[38;5;28mprint\u001b[39m(N\u001b[38;5;241m.\u001b[39mshape)\n\u001b[0;32m----> 4\u001b[0m \u001b[43mM\u001b[49m\u001b[38;5;129;43m@N\u001b[39;49m\n",
      "\u001b[0;31mValueError\u001b[0m: matmul: Input operand 1 has a mismatch in its core dimension 0, with gufunc signature (n?,k),(k,m?)->(n?,m?) (size 2 is different from 5)"
     ]
    }
   ],
   "source": [
    "# Note: we are performing a matrix multiplication on two 2x5 matrices, which is not possible\n",
    "print(M.shape)\n",
    "print(N.shape)\n",
    "M@N"
   ]
  },
  {
   "cell_type": "code",
   "execution_count": 106,
   "metadata": {},
   "outputs": [
    {
     "data": {
      "text/plain": [
       "array([[1, 8],\n",
       "       [4, 7],\n",
       "       [2, 9],\n",
       "       [2, 4],\n",
       "       [2, 7]])"
      ]
     },
     "execution_count": 106,
     "metadata": {},
     "output_type": "execute_result"
    }
   ],
   "source": [
    "# We can transpose one of the matrices to obtain a 5x2 matrix\n",
    "N.T"
   ]
  },
  {
   "cell_type": "code",
   "execution_count": 107,
   "metadata": {},
   "outputs": [
    {
     "data": {
      "text/plain": [
       "array([[ 22,  65],\n",
       "       [ 77, 240]])"
      ]
     },
     "execution_count": 107,
     "metadata": {},
     "output_type": "execute_result"
    }
   ],
   "source": [
    "# The operation works\n",
    "M@N.T"
   ]
  },
  {
   "cell_type": "markdown",
   "metadata": {},
   "source": [
    "---"
   ]
  }
 ],
 "metadata": {
  "kernelspec": {
   "display_name": "Python 3 (ipykernel)",
   "language": "python",
   "name": "python3"
  },
  "language_info": {
   "codemirror_mode": {
    "name": "ipython",
    "version": 3
   },
   "file_extension": ".py",
   "mimetype": "text/x-python",
   "name": "python",
   "nbconvert_exporter": "python",
   "pygments_lexer": "ipython3",
   "version": "3.9.7"
  }
 },
 "nbformat": 4,
 "nbformat_minor": 4
}
